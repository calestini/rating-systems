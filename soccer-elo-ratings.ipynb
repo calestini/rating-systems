{
 "cells": [
  {
   "cell_type": "code",
   "execution_count": 208,
   "metadata": {
    "collapsed": true
   },
   "outputs": [],
   "source": [
    "import pandas as pd\n",
    "import numpy as np\n",
    "import seaborn as sns\n",
    "import matplotlib.pyplot as plt\n",
    "%matplotlib inline\n",
    "\n",
    "import plotly\n",
    "import plotly.plotly as py\n",
    "import plotly.graph_objs as go\n",
    "\n",
    "from ratings.Elo import Elo\n",
    "from ratings.Rate import Rate\n",
    "from ratings.helpers import mlog_loss\n",
    "from ratings.helpers import roc_auc_s"
   ]
  },
  {
   "cell_type": "code",
   "execution_count": 1211,
   "metadata": {
    "collapsed": true
   },
   "outputs": [],
   "source": [
    "#import data\n",
    "fixtures = pd.read_csv('soccer_data_new.csv')\n",
    "team_info = pd.read_csv('team_info.csv')"
   ]
  },
  {
   "cell_type": "code",
   "execution_count": 3,
   "metadata": {},
   "outputs": [
    {
     "name": "stdout",
     "output_type": "stream",
     "text": [
      "Prepping data...\n",
      "Starting calculations...\n",
      "Calculations completed in 7427.563190 seconds================] 100.0% ... Hooray!\n"
     ]
    }
   ],
   "source": [
    "#Perform rating\n",
    "rating = Rate()\n",
    "rating.calculate_elo(fixtures, K=20, h=70, Sd=True) "
   ]
  },
  {
   "cell_type": "code",
   "execution_count": 947,
   "metadata": {
    "collapsed": true
   },
   "outputs": [],
   "source": [
    "fixtures = fixtures.join(rating.ratings_fixtures)"
   ]
  },
  {
   "cell_type": "markdown",
   "metadata": {},
   "source": [
    "## Set Color Palette"
   ]
  },
  {
   "cell_type": "code",
   "execution_count": 370,
   "metadata": {},
   "outputs": [],
   "source": [
    "#Torneo color palette\n",
    "\"\"\"\n",
    "galaxy = [54, 62, 79, 1]\n",
    "ocean = [14, 113, 163, 1]\n",
    "glacier = [82, 194, 184, 1]\n",
    "orangepop = [241, 91, 36, 1]\n",
    "cloud = [66, 186, 225, 1]\n",
    "\"\"\"\n",
    "galaxy_rgb = (54,62,79)\n",
    "ocean_rgb = (14,113,163)\n",
    "glacier_rgb = (82,194,184)\n",
    "orangepop_rgb = (241,91,36)\n",
    "cloud_rgb = (66,186,225)\n",
    "\n",
    "galaxy = '#363E4F'\n",
    "galaxy_light = '#5d6b89'\n",
    "ocean = '#0e71a3'\n",
    "ocean_light = '#8ad1f5'\n",
    "glacier = '#52c2b8'\n",
    "glacier_light = '#a1ded9'\n",
    "orangepop = '#f15b24'\n",
    "orangepop_light = '#f6936f'\n",
    "cloud = '#42bae1'\n",
    "cloud_light = '#e9f7fc'"
   ]
  },
  {
   "cell_type": "markdown",
   "metadata": {},
   "source": [
    "## Evaluate Model"
   ]
  },
  {
   "cell_type": "markdown",
   "metadata": {},
   "source": [
    "### Confusion Matrix"
   ]
  },
  {
   "cell_type": "code",
   "execution_count": 5,
   "metadata": {},
   "outputs": [
    {
     "data": {
      "image/png": "[encoded data removed]",
      "text/plain": [
       "<matplotlib.figure.Figure at 0x20a79a70ef0>"
      ]
     },
     "metadata": {},
     "output_type": "display_data"
    },
    {
     "data": {
      "text/plain": [
       "array([[ 86966, 130198,  77968],\n",
       "       [ 44637, 325692,  87242],\n",
       "       [ 42864, 152307,  64089]], dtype=int64)"
      ]
     },
     "execution_count": 5,
     "metadata": {},
     "output_type": "execute_result"
    }
   ],
   "source": [
    "rating.get_confusion_matrix()"
   ]
  },
  {
   "cell_type": "markdown",
   "metadata": {},
   "source": [
    "### Classification Report"
   ]
  },
  {
   "cell_type": "code",
   "execution_count": 6,
   "metadata": {},
   "outputs": [
    {
     "name": "stdout",
     "output_type": "stream",
     "text": [
      "             precision    recall  f1-score   support\n",
      "\n",
      "   Away Win       0.50      0.29      0.37    295132\n",
      "   Home Win       0.54      0.71      0.61    457571\n",
      "        Tie       0.28      0.25      0.26    259260\n",
      "\n",
      "avg / total       0.46      0.47      0.45   1011963\n",
      "\n"
     ]
    }
   ],
   "source": [
    "print(rating.get_classification_report())"
   ]
  },
  {
   "cell_type": "markdown",
   "metadata": {},
   "source": [
    "### Log Loss"
   ]
  },
  {
   "cell_type": "code",
   "execution_count": 7,
   "metadata": {},
   "outputs": [
    {
     "data": {
      "text/plain": [
       "(0.44288099909719758, 0.46345651452827141)"
      ]
     },
     "execution_count": 7,
     "metadata": {},
     "output_type": "execute_result"
    }
   ],
   "source": [
    "rating.get_log_loss()"
   ]
  },
  {
   "cell_type": "markdown",
   "metadata": {},
   "source": [
    "### ROC AUC"
   ]
  },
  {
   "cell_type": "code",
   "execution_count": 220,
   "metadata": {},
   "outputs": [
    {
     "data": {
      "image/png": "[encoded data removed]",
      "text/plain": [
       "<matplotlib.figure.Figure at 0x20a5f83b240>"
      ]
     },
     "metadata": {},
     "output_type": "display_data"
    }
   ],
   "source": [
    "from itertools import cycle\n",
    "\n",
    "roc_auc, fpr, tpr = roc_auc_s(rating.true, rating.pred)\n",
    "tie_target_names = ['Away Win', 'Home Win', 'Tie']\n",
    "\n",
    "def graph_roc_auc(roc_auc, fpr, tpr, n_classes):\n",
    "    \"\"\"\n",
    "    Graphs ROC curves\n",
    "    \"\"\"\n",
    "    if n_classes == 3:\n",
    "        target_names = tie_target_names\n",
    "        lw = 2\n",
    "        plt.figure()\n",
    "        plt.plot(fpr[\"micro\"], tpr[\"micro\"],\n",
    "                 label='micro-average ROC curve (area = {0:0.2f})'\n",
    "                       ''.format(roc_auc[\"micro\"]),\n",
    "                 color=orangepop, linestyle=':', linewidth=4)\n",
    "        \n",
    "        plt.plot(fpr[\"macro\"], tpr[\"macro\"],\n",
    "                 label='macro-average ROC curve (area = {0:0.2f})'\n",
    "                       ''.format(roc_auc[\"macro\"]),\n",
    "                 color=galaxy, linestyle=':', linewidth=4)\n",
    "        \n",
    "        colors = cycle([ocean, cloud, glacier])\n",
    "        for color, class_name in zip(colors, target_names):\n",
    "            plt.plot(fpr[class_name], tpr[class_name], color=color, lw=lw,\n",
    "                     label='ROC curve of class {0} (area = {1:0.2f})'\n",
    "                     ''.format(class_name, roc_auc[class_name]))  \n",
    "    else:\n",
    "        plt.plot(fpr, tpr, label='ROC curve (area = {0:0.2f})'\n",
    "                 ''.format(roc_auc), color='aqua', linestyle=':', linewidth=2)\n",
    "    \n",
    "    plt.plot([0, 1], [0, 1], 'k--', lw=lw)\n",
    "    plt.xlim([0.0, 1.0])\n",
    "    plt.ylim([0.0, 1.05])\n",
    "    plt.xlabel('False Positive Rate')\n",
    "    plt.ylabel('True Positive Rate')\n",
    "    plt.title('Receiver Operating Characteristic')\n",
    "    plt.legend(loc=\"lower right\")\n",
    "    plt.show()\n",
    "\n",
    "graph_roc_auc(roc_auc, fpr, tpr, 3)"
   ]
  },
  {
   "cell_type": "markdown",
   "metadata": {},
   "source": [
    "## Analysis"
   ]
  },
  {
   "cell_type": "markdown",
   "metadata": {},
   "source": [
    "### Rating difference vs. likelihood of winning"
   ]
  },
  {
   "cell_type": "code",
   "execution_count": 9,
   "metadata": {},
   "outputs": [
    {
     "data": {
      "text/plain": [
       "<matplotlib.collections.PathCollection at 0x20a3c9a9ba8>"
      ]
     },
     "execution_count": 9,
     "metadata": {},
     "output_type": "execute_result"
    },
    {
     "data": {
      "image/png": "[encoded data removed]",
      "text/plain": [
       "<matplotlib.figure.Figure at 0x20a09237c18>"
      ]
     },
     "metadata": {},
     "output_type": "display_data"
    }
   ],
   "source": [
    "p = fixtures['localteam_p'].values\n",
    "r_diff = fixtures['localteam_r'].values - fixtures['visitorteam_r'].values\n",
    "sns.set_style('white')\n",
    "plt.scatter(r_diff, p)"
   ]
  },
  {
   "cell_type": "markdown",
   "metadata": {},
   "source": [
    "### Biggest Upsets for Major Leagues"
   ]
  },
  {
   "cell_type": "code",
   "execution_count": 949,
   "metadata": {},
   "outputs": [],
   "source": [
    "fixtures['local_r_diff'] = np.abs(fixtures['localteam_r'] - fixtures['localteam_post_r'])\n",
    "fixtures['visitor_r_diff'] = np.abs(fixtures['visitorteam_r'] - fixtures['visitorteam_post_r'])"
   ]
  },
  {
   "cell_type": "code",
   "execution_count": 1142,
   "metadata": {},
   "outputs": [],
   "source": [
    "major_leagues = [2, 8, 82, 301, 384, 564]\n",
    "#743\n",
    "columns = ['starting_datetime', 'league_name', 'localteam_name', 'localteam_score', 'visitorteam_score', 'visitorteam_name', \\\n",
    "           'localteam_p', 'local_r_diff']\n",
    "ml_fixtures = fixtures[(fixtures['league_id'].isin(major_leagues)) & (pd.to_datetime(fixtures['starting_datetime']) > datetime.date(2017, 1, 1))]\n",
    "ml_fixtures_ten = ml_fixtures.sort_values('local_r_diff', ascending=False)[columns].head(10)"
   ]
  },
  {
   "cell_type": "code",
   "execution_count": 1125,
   "metadata": {},
   "outputs": [],
   "source": [
    "ml_fixtures_ten['localteam_p'] = pd.Series([\"{0:.2f}%\".format(val * 100) for val in ml_fixtures_ten['localteam_p']], index = ml_fixtures_ten.index)\n",
    "ml_fixtures_ten['local_r_diff'] = np.round(ml_fixtures_ten['local_r_diff'],2)"
   ]
  },
  {
   "cell_type": "code",
   "execution_count": 1126,
   "metadata": {},
   "outputs": [],
   "source": [
    "ml_fixtures_ten = ml_fixtures_ten.rename(columns={\n",
    "    'starting_datetime':'Date and Time',\n",
    "    'league_name':'League', \n",
    "    'localteam_name':'Local Team', \n",
    "    'localteam_score':'Local Score',\n",
    "    'visitorteam_score':'Visitor Score', \n",
    "    'visitorteam_name':'Visitor Team', \n",
    "    'localteam_p':'Local Win Prob.',\n",
    "    'local_r_diff': 'Rating Change'\n",
    "})"
   ]
  },
  {
   "cell_type": "code",
   "execution_count": 1127,
   "metadata": {},
   "outputs": [
    {
     "data": {
      "text/html": [
       "<iframe id=\"igraph\" scrolling=\"no\" style=\"border:none;\" seamless=\"seamless\" src=\"https://plot.ly/~cathyhax/43.embed\" height=\"380px\" width=\"100%\"></iframe>"
      ],
      "text/plain": [
       "<plotly.tools.PlotlyDisplay object>"
      ]
     },
     "execution_count": 1127,
     "metadata": {},
     "output_type": "execute_result"
    }
   ],
   "source": [
    "import plotly.figure_factory as ff\n",
    "\n",
    "colorscale = [[0, orangepop],[.5, '#ffffff'],[1, '#ffffff']]\n",
    "\n",
    "table = ff.create_table(ml_fixtures_ten, colorscale=colorscale)\n",
    "py.iplot(table, filename='Ten Biggest Upsets in 2017 and 2018')"
   ]
  },
  {
   "cell_type": "code",
   "execution_count": 292,
   "metadata": {},
   "outputs": [],
   "source": [
    "team_current_rating = rating.ratings_teams\n",
    "team_current_rating = team_current_rating.reset_index()"
   ]
  },
  {
   "cell_type": "code",
   "execution_count": 300,
   "metadata": {},
   "outputs": [
    {
     "name": "stdout",
     "output_type": "stream",
     "text": [
      "PAOK has played in 115 international matches while Benfica has played in 184 international matches\n"
     ]
    }
   ],
   "source": [
    "PAOK_int_cnt = len(fixtures[((fixtures['localteam_name']=='PAOK') | (fixtures['visitorteam_name']=='PAOK')) & (fixtures['league_country']!='Greece')])\n",
    "Benfica_int_cnt = len(fixtures[((fixtures['localteam_name']=='Benfica') | (fixtures['visitorteam_name']=='Benfica')) & (fixtures['league_country']!='Portugal')])\n",
    "print('PAOK has played in %d international matches while Benfica has played in %d international matches'% (PAOK_int_cnt, Benfica_int_cnt))"
   ]
  },
  {
   "cell_type": "code",
   "execution_count": 26,
   "metadata": {},
   "outputs": [
    {
     "data": {
      "text/html": [
       "<div>\n",
       "<style>\n",
       "    .dataframe thead tr:only-child th {\n",
       "        text-align: right;\n",
       "    }\n",
       "\n",
       "    .dataframe thead th {\n",
       "        text-align: left;\n",
       "    }\n",
       "\n",
       "    .dataframe tbody tr th {\n",
       "        vertical-align: top;\n",
       "    }\n",
       "</style>\n",
       "<table border=\"1\" class=\"dataframe\">\n",
       "  <thead>\n",
       "    <tr style=\"text-align: right;\">\n",
       "      <th></th>\n",
       "      <th>fixture_id</th>\n",
       "      <th>localteam_id</th>\n",
       "      <th>localteam_name</th>\n",
       "      <th>visitorteam_id</th>\n",
       "      <th>visitorteam_name</th>\n",
       "      <th>localteam_score</th>\n",
       "      <th>visitorteam_score</th>\n",
       "      <th>home_team</th>\n",
       "      <th>starting_datetime</th>\n",
       "      <th>league_id</th>\n",
       "      <th>...</th>\n",
       "      <th>visitorteam_outcome</th>\n",
       "      <th>result_order</th>\n",
       "      <th>localteam_r</th>\n",
       "      <th>visitorteam_r</th>\n",
       "      <th>localteam_p</th>\n",
       "      <th>visitorteam_p</th>\n",
       "      <th>localteam_post_r</th>\n",
       "      <th>visitorteam_post_r</th>\n",
       "      <th>local_r_diff</th>\n",
       "      <th>visitor_r_diff</th>\n",
       "    </tr>\n",
       "  </thead>\n",
       "  <tbody>\n",
       "    <tr>\n",
       "      <th>1007026</th>\n",
       "      <td>8636042</td>\n",
       "      <td>18576.0</td>\n",
       "      <td>Mexico</td>\n",
       "      <td>18564</td>\n",
       "      <td>Sweden</td>\n",
       "      <td>0</td>\n",
       "      <td>3</td>\n",
       "      <td>no_home</td>\n",
       "      <td>2018-06-27 14:00:00</td>\n",
       "      <td>732.0</td>\n",
       "      <td>...</td>\n",
       "      <td>1.0</td>\n",
       "      <td>2018-06-27 14:00:00</td>\n",
       "      <td>1751.509114</td>\n",
       "      <td>1646.414984</td>\n",
       "      <td>0.732613</td>\n",
       "      <td>0.267387</td>\n",
       "      <td>1725.697762</td>\n",
       "      <td>1672.226335</td>\n",
       "      <td>25.811351</td>\n",
       "      <td>-25.811351</td>\n",
       "    </tr>\n",
       "    <tr>\n",
       "      <th>1007033</th>\n",
       "      <td>8636039</td>\n",
       "      <td>18730.0</td>\n",
       "      <td>Australia</td>\n",
       "      <td>18775</td>\n",
       "      <td>Peru</td>\n",
       "      <td>0</td>\n",
       "      <td>2</td>\n",
       "      <td>no_home</td>\n",
       "      <td>2018-06-26 14:00:00</td>\n",
       "      <td>732.0</td>\n",
       "      <td>...</td>\n",
       "      <td>1.0</td>\n",
       "      <td>2018-06-26 14:00:00</td>\n",
       "      <td>1683.909350</td>\n",
       "      <td>1711.536071</td>\n",
       "      <td>0.560679</td>\n",
       "      <td>0.439321</td>\n",
       "      <td>1667.513768</td>\n",
       "      <td>1727.931653</td>\n",
       "      <td>16.395582</td>\n",
       "      <td>-16.395582</td>\n",
       "    </tr>\n",
       "    <tr>\n",
       "      <th>1006790</th>\n",
       "      <td>8636040</td>\n",
       "      <td>18737.0</td>\n",
       "      <td>Nigeria</td>\n",
       "      <td>18644</td>\n",
       "      <td>Argentina</td>\n",
       "      <td>1</td>\n",
       "      <td>2</td>\n",
       "      <td>no_home</td>\n",
       "      <td>2018-06-26 18:00:00</td>\n",
       "      <td>732.0</td>\n",
       "      <td>...</td>\n",
       "      <td>1.0</td>\n",
       "      <td>2018-06-26 18:00:00</td>\n",
       "      <td>1635.236546</td>\n",
       "      <td>1475.849127</td>\n",
       "      <td>0.789258</td>\n",
       "      <td>0.210742</td>\n",
       "      <td>1619.451381</td>\n",
       "      <td>1491.634292</td>\n",
       "      <td>15.785165</td>\n",
       "      <td>-15.785165</td>\n",
       "    </tr>\n",
       "    <tr>\n",
       "      <th>48971</th>\n",
       "      <td>8636033</td>\n",
       "      <td>18699.0</td>\n",
       "      <td>Poland</td>\n",
       "      <td>18720</td>\n",
       "      <td>Colombia</td>\n",
       "      <td>0</td>\n",
       "      <td>3</td>\n",
       "      <td>no_home</td>\n",
       "      <td>2018-06-24 18:00:00</td>\n",
       "      <td>732.0</td>\n",
       "      <td>...</td>\n",
       "      <td>1.0</td>\n",
       "      <td>2018-06-24 18:00:00</td>\n",
       "      <td>1626.972373</td>\n",
       "      <td>1737.266020</td>\n",
       "      <td>0.442271</td>\n",
       "      <td>0.557729</td>\n",
       "      <td>1611.390320</td>\n",
       "      <td>1752.848073</td>\n",
       "      <td>15.582053</td>\n",
       "      <td>-15.582053</td>\n",
       "    </tr>\n",
       "    <tr>\n",
       "      <th>38861</th>\n",
       "      <td>10344350</td>\n",
       "      <td>18704.0</td>\n",
       "      <td>Brazil</td>\n",
       "      <td>18743</td>\n",
       "      <td>Belgium</td>\n",
       "      <td>1</td>\n",
       "      <td>2</td>\n",
       "      <td>no_home</td>\n",
       "      <td>2018-07-06 18:00:00</td>\n",
       "      <td>732.0</td>\n",
       "      <td>...</td>\n",
       "      <td>1.0</td>\n",
       "      <td>2018-07-06 18:00:00</td>\n",
       "      <td>1927.365871</td>\n",
       "      <td>1784.590734</td>\n",
       "      <td>0.772913</td>\n",
       "      <td>0.227087</td>\n",
       "      <td>1911.907615</td>\n",
       "      <td>1800.048990</td>\n",
       "      <td>15.458256</td>\n",
       "      <td>-15.458256</td>\n",
       "    </tr>\n",
       "    <tr>\n",
       "      <th>39648</th>\n",
       "      <td>10346329</td>\n",
       "      <td>18564.0</td>\n",
       "      <td>Sweden</td>\n",
       "      <td>18645</td>\n",
       "      <td>England</td>\n",
       "      <td>0</td>\n",
       "      <td>2</td>\n",
       "      <td>no_home</td>\n",
       "      <td>2018-07-07 14:00:00</td>\n",
       "      <td>732.0</td>\n",
       "      <td>...</td>\n",
       "      <td>1.0</td>\n",
       "      <td>2018-07-07 14:00:00</td>\n",
       "      <td>1681.182561</td>\n",
       "      <td>1743.198410</td>\n",
       "      <td>0.511488</td>\n",
       "      <td>0.488512</td>\n",
       "      <td>1666.225450</td>\n",
       "      <td>1758.155520</td>\n",
       "      <td>14.957110</td>\n",
       "      <td>-14.957110</td>\n",
       "    </tr>\n",
       "    <tr>\n",
       "      <th>48893</th>\n",
       "      <td>8636016</td>\n",
       "      <td>18720.0</td>\n",
       "      <td>Colombia</td>\n",
       "      <td>18597</td>\n",
       "      <td>Japan</td>\n",
       "      <td>1</td>\n",
       "      <td>2</td>\n",
       "      <td>no_home</td>\n",
       "      <td>2018-06-19 12:00:00</td>\n",
       "      <td>732.0</td>\n",
       "      <td>...</td>\n",
       "      <td>1.0</td>\n",
       "      <td>2018-06-19 12:00:00</td>\n",
       "      <td>1751.674283</td>\n",
       "      <td>1657.248317</td>\n",
       "      <td>0.720413</td>\n",
       "      <td>0.279587</td>\n",
       "      <td>1737.266020</td>\n",
       "      <td>1671.656580</td>\n",
       "      <td>14.408263</td>\n",
       "      <td>-14.408263</td>\n",
       "    </tr>\n",
       "    <tr>\n",
       "      <th>1003228</th>\n",
       "      <td>8636008</td>\n",
       "      <td>18775.0</td>\n",
       "      <td>Peru</td>\n",
       "      <td>18583</td>\n",
       "      <td>Denmark</td>\n",
       "      <td>0</td>\n",
       "      <td>1</td>\n",
       "      <td>no_home</td>\n",
       "      <td>2018-06-16 16:00:00</td>\n",
       "      <td>732.0</td>\n",
       "      <td>...</td>\n",
       "      <td>1.0</td>\n",
       "      <td>2018-06-16 16:00:00</td>\n",
       "      <td>1731.638427</td>\n",
       "      <td>1643.326738</td>\n",
       "      <td>0.713269</td>\n",
       "      <td>0.286731</td>\n",
       "      <td>1717.373042</td>\n",
       "      <td>1657.592123</td>\n",
       "      <td>14.265385</td>\n",
       "      <td>-14.265385</td>\n",
       "    </tr>\n",
       "    <tr>\n",
       "      <th>38724</th>\n",
       "      <td>10342083</td>\n",
       "      <td>15251.0</td>\n",
       "      <td>Uruguay</td>\n",
       "      <td>18647</td>\n",
       "      <td>France</td>\n",
       "      <td>0</td>\n",
       "      <td>2</td>\n",
       "      <td>no_home</td>\n",
       "      <td>2018-07-06 14:00:00</td>\n",
       "      <td>732.0</td>\n",
       "      <td>...</td>\n",
       "      <td>1.0</td>\n",
       "      <td>2018-07-06 14:00:00</td>\n",
       "      <td>1720.264245</td>\n",
       "      <td>1806.894059</td>\n",
       "      <td>0.476086</td>\n",
       "      <td>0.523914</td>\n",
       "      <td>1706.342374</td>\n",
       "      <td>1820.815930</td>\n",
       "      <td>13.921871</td>\n",
       "      <td>-13.921871</td>\n",
       "    </tr>\n",
       "    <tr>\n",
       "      <th>1007037</th>\n",
       "      <td>8636011</td>\n",
       "      <td>18660.0</td>\n",
       "      <td>Germany</td>\n",
       "      <td>18576</td>\n",
       "      <td>Mexico</td>\n",
       "      <td>0</td>\n",
       "      <td>1</td>\n",
       "      <td>no_home</td>\n",
       "      <td>2018-06-17 15:00:00</td>\n",
       "      <td>732.0</td>\n",
       "      <td>...</td>\n",
       "      <td>1.0</td>\n",
       "      <td>2018-06-17 15:00:00</td>\n",
       "      <td>1790.881080</td>\n",
       "      <td>1729.381516</td>\n",
       "      <td>0.680696</td>\n",
       "      <td>0.319304</td>\n",
       "      <td>1777.267160</td>\n",
       "      <td>1742.995437</td>\n",
       "      <td>13.613921</td>\n",
       "      <td>-13.613921</td>\n",
       "    </tr>\n",
       "  </tbody>\n",
       "</table>\n",
       "<p>10 rows × 25 columns</p>\n",
       "</div>"
      ],
      "text/plain": [
       "         fixture_id  localteam_id localteam_name  visitorteam_id  \\\n",
       "1007026     8636042       18576.0         Mexico           18564   \n",
       "1007033     8636039       18730.0      Australia           18775   \n",
       "1006790     8636040       18737.0        Nigeria           18644   \n",
       "48971       8636033       18699.0         Poland           18720   \n",
       "38861      10344350       18704.0         Brazil           18743   \n",
       "39648      10346329       18564.0         Sweden           18645   \n",
       "48893       8636016       18720.0       Colombia           18597   \n",
       "1003228     8636008       18775.0           Peru           18583   \n",
       "38724      10342083       15251.0        Uruguay           18647   \n",
       "1007037     8636011       18660.0        Germany           18576   \n",
       "\n",
       "        visitorteam_name  localteam_score  visitorteam_score home_team  \\\n",
       "1007026           Sweden                0                  3   no_home   \n",
       "1007033             Peru                0                  2   no_home   \n",
       "1006790        Argentina                1                  2   no_home   \n",
       "48971           Colombia                0                  3   no_home   \n",
       "38861            Belgium                1                  2   no_home   \n",
       "39648            England                0                  2   no_home   \n",
       "48893              Japan                1                  2   no_home   \n",
       "1003228          Denmark                0                  1   no_home   \n",
       "38724             France                0                  2   no_home   \n",
       "1007037           Mexico                0                  1   no_home   \n",
       "\n",
       "           starting_datetime  league_id       ...       visitorteam_outcome  \\\n",
       "1007026  2018-06-27 14:00:00      732.0       ...                       1.0   \n",
       "1007033  2018-06-26 14:00:00      732.0       ...                       1.0   \n",
       "1006790  2018-06-26 18:00:00      732.0       ...                       1.0   \n",
       "48971    2018-06-24 18:00:00      732.0       ...                       1.0   \n",
       "38861    2018-07-06 18:00:00      732.0       ...                       1.0   \n",
       "39648    2018-07-07 14:00:00      732.0       ...                       1.0   \n",
       "48893    2018-06-19 12:00:00      732.0       ...                       1.0   \n",
       "1003228  2018-06-16 16:00:00      732.0       ...                       1.0   \n",
       "38724    2018-07-06 14:00:00      732.0       ...                       1.0   \n",
       "1007037  2018-06-17 15:00:00      732.0       ...                       1.0   \n",
       "\n",
       "                result_order  localteam_r visitorteam_r  localteam_p  \\\n",
       "1007026  2018-06-27 14:00:00  1751.509114   1646.414984     0.732613   \n",
       "1007033  2018-06-26 14:00:00  1683.909350   1711.536071     0.560679   \n",
       "1006790  2018-06-26 18:00:00  1635.236546   1475.849127     0.789258   \n",
       "48971    2018-06-24 18:00:00  1626.972373   1737.266020     0.442271   \n",
       "38861    2018-07-06 18:00:00  1927.365871   1784.590734     0.772913   \n",
       "39648    2018-07-07 14:00:00  1681.182561   1743.198410     0.511488   \n",
       "48893    2018-06-19 12:00:00  1751.674283   1657.248317     0.720413   \n",
       "1003228  2018-06-16 16:00:00  1731.638427   1643.326738     0.713269   \n",
       "38724    2018-07-06 14:00:00  1720.264245   1806.894059     0.476086   \n",
       "1007037  2018-06-17 15:00:00  1790.881080   1729.381516     0.680696   \n",
       "\n",
       "         visitorteam_p localteam_post_r  visitorteam_post_r  local_r_diff  \\\n",
       "1007026       0.267387      1725.697762         1672.226335     25.811351   \n",
       "1007033       0.439321      1667.513768         1727.931653     16.395582   \n",
       "1006790       0.210742      1619.451381         1491.634292     15.785165   \n",
       "48971         0.557729      1611.390320         1752.848073     15.582053   \n",
       "38861         0.227087      1911.907615         1800.048990     15.458256   \n",
       "39648         0.488512      1666.225450         1758.155520     14.957110   \n",
       "48893         0.279587      1737.266020         1671.656580     14.408263   \n",
       "1003228       0.286731      1717.373042         1657.592123     14.265385   \n",
       "38724         0.523914      1706.342374         1820.815930     13.921871   \n",
       "1007037       0.319304      1777.267160         1742.995437     13.613921   \n",
       "\n",
       "         visitor_r_diff  \n",
       "1007026      -25.811351  \n",
       "1007033      -16.395582  \n",
       "1006790      -15.785165  \n",
       "48971        -15.582053  \n",
       "38861        -15.458256  \n",
       "39648        -14.957110  \n",
       "48893        -14.408263  \n",
       "1003228      -14.265385  \n",
       "38724        -13.921871  \n",
       "1007037      -13.613921  \n",
       "\n",
       "[10 rows x 25 columns]"
      ]
     },
     "execution_count": 26,
     "metadata": {},
     "output_type": "execute_result"
    }
   ],
   "source": [
    "import datetime\n",
    "fixtures_worldcup = fixtures[(fixtures['league_name'] == 'World Cup') & (pd.to_datetime(fixtures['starting_datetime']) > datetime.date(2018, 1, 1))]\n",
    "fixtures_worldcup.sort_values('local_r_diff', ascending=False).head(10)"
   ]
  },
  {
   "cell_type": "markdown",
   "metadata": {},
   "source": [
    "### Distribution of Team Ratings"
   ]
  },
  {
   "cell_type": "code",
   "execution_count": 374,
   "metadata": {},
   "outputs": [],
   "source": [
    "team_info_noname = team_info.set_index('team_id').drop('team_name', axis=1)\n",
    "team_ratings = rating.ratings_teams.join(team_info_noname)"
   ]
  },
  {
   "cell_type": "code",
   "execution_count": 376,
   "metadata": {},
   "outputs": [
    {
     "data": {
      "text/html": [
       "<iframe id=\"igraph\" scrolling=\"no\" style=\"border:none;\" seamless=\"seamless\" src=\"https://plot.ly/~cathyhax/49.embed\" height=\"525px\" width=\"100%\"></iframe>"
      ],
      "text/plain": [
       "<plotly.tools.PlotlyDisplay object>"
      ]
     },
     "execution_count": 376,
     "metadata": {},
     "output_type": "execute_result"
    }
   ],
   "source": [
    "hist_data = []\n",
    "rug_text = []\n",
    "countries = ['Argentina', 'Portugal', 'Brazil', 'France', 'Belgium', 'Germany', 'England', 'Spain', 'Italy']\n",
    "\n",
    "for country in countries:\n",
    "    hist_data.append(team_ratings[team_ratings['team_country'] == country]['rating'])\n",
    "    rug_text.append(team_ratings[team_ratings['team_country'] == country]['team_name'])\n",
    "\n",
    "group_labels = countries\n",
    "colors = [orangepop, galaxy, glacier, ocean, cloud, galaxy_light, orangepop_light, glacier_light, ocean_light]\n",
    "\n",
    "# Create distplot with curve_type set to 'normal'\n",
    "fig = ff.create_distplot(hist_data, group_labels, show_hist=False, colors=colors, rug_text=rug_text)\n",
    "\n",
    "# Add title\n",
    "fig['layout'].update(title='Team Rating Distributions by Team Country', yaxis = dict(showgrid=False))\n",
    "\n",
    "# Plot!\n",
    "py.iplot(fig, filename='Team Rating Distributions by Team Country')"
   ]
  },
  {
   "cell_type": "markdown",
   "metadata": {},
   "source": [
    "### Graphing Ratings by Team in Plot.ly"
   ]
  },
  {
   "cell_type": "code",
   "execution_count": 1192,
   "metadata": {},
   "outputs": [],
   "source": [
    "team_info_reset = team_info.reset_index()"
   ]
  },
  {
   "cell_type": "code",
   "execution_count": 1191,
   "metadata": {},
   "outputs": [],
   "source": [
    "#add some additional info from the fixtures table\n",
    "team_fixture_r = rating.ratings_teams_fixtures\n",
    "team_fixture_r = team_fixture_r.set_index('id')\n",
    "team_fixture_r = team_fixture_r.join(fixtures[['localteam_name', 'visitorteam_name', 'localteam_score', 'visitorteam_score', 'world_region', 'league_name']])\n",
    "team_fixture_r = team_fixture_r.join(team_info_reset[['team_country']], on='team_id', how='left')                       "
   ]
  },
  {
   "cell_type": "code",
   "execution_count": 1214,
   "metadata": {},
   "outputs": [],
   "source": [
    "#Top teams order\n",
    "#plot top 50 teams\n",
    "order = rating.ratings_teams.index.values[np.isnan(rating.ratings_teams.index.values) == False]\n",
    "order = order[:50]\n",
    "team_fixture_r = team_fixture_r[team_fixture_r.team_id.isin(order)]\n",
    "team_fixture_r = team_fixture_r[(pd.isnull(team_fixture_r.team_id) == False) & \\\n",
    "                                (pd.isnull(team_fixture_r.localteam_name) == False) & \\\n",
    "                                (pd.isnull(team_fixture_r.visitorteam_name) == False)]\n",
    "team_fixture_r.team_id = team_fixture_r.team_id.astype(\"category\")\n",
    "team_fixture_r.team_id.cat.set_categories(order, inplace=True)\n",
    "team_fixture_r.sort_values(['team_id', 'order'], inplace=True)\n",
    "teams = team_fixture_r['team_id'].unique()"
   ]
  },
  {
   "cell_type": "code",
   "execution_count": 1194,
   "metadata": {},
   "outputs": [
    {
     "data": {
      "image/png": "[encoded data removed]",
      "text/plain": [
       "<matplotlib.figure.Figure at 0x20a530b0d30>"
      ]
     },
     "metadata": {},
     "output_type": "display_data"
    }
   ],
   "source": [
    "### Using seaborn to create color palette\n",
    "\n",
    "\"\"\"\n",
    "import colorlover as cl\n",
    "from IPython.display import HTML\n",
    "\n",
    "colors = [(255,69,0), (25,25,112)]\n",
    "team_colors = cl.interp(colors, len(teams))\n",
    "HTML(cl.to_html(team_colors))\n",
    "\"\"\"\n",
    "#sns.choose_cubehelix_palette()\n",
    "colors_10 = sns.cubehelix_palette(n_colors=10, reverse=True)\n",
    "colors_rest = sns.cubehelix_palette(n_colors=len(teams)-10, start=0.1, rot=0.4, dark=0.3)\n",
    "sns.palplot(colors_rest)\n",
    "\n",
    "colors = colors_10 + colors_rest\n",
    "\n",
    "team_colors = []\n",
    "\n",
    "for color in colors:\n",
    "    values = []\n",
    "    for value in color:\n",
    "        value *= 255\n",
    "        values.append(value)\n",
    "    values_text = ', '.join(str(x) for x in values)\n",
    "    values_rgb_str = 'rgb('+ values_text + ')'\n",
    "    team_colors.append(values_rgb_str)"
   ]
  },
  {
   "cell_type": "code",
   "execution_count": 1223,
   "metadata": {},
   "outputs": [],
   "source": [
    "#data\n",
    "data = []\n",
    "count = 0\n",
    "\n",
    "for team in teams:\n",
    "    top = teams[:5]\n",
    "    if team in top:\n",
    "        visible = True\n",
    "    else:\n",
    "        visible = False\n",
    "    team_data = team_fixture_r[team_fixture_r['team_id'] == team]\n",
    "    team_country = team_info[team_info['team_id'] == team]['iso'].values[0]\n",
    "    team_name = team_data[team_data['team_id'] == team]['team_name'].unique()[0]\n",
    "    name =  team_name + ' (' + team_country + ')'\n",
    "    hovertext_local = team_data['localteam_name'] + ' ' + team_data['localteam_score'].map(str)\n",
    "    hovertext_visitor =  team_data['visitorteam_score'].map(str) + ' ' + team_data['visitorteam_name']\n",
    "    hovertext = team_data['league_name'] + ': ' + hovertext_local.str.cat(hovertext_visitor.astype(str), sep=' vs. ')\n",
    "    team_trace = go.Scatter(\n",
    "        x = team_data.order,\n",
    "        y = team_data.team_post_r,\n",
    "        hovertext = hovertext,\n",
    "        line = {'color': team_colors[count]},\n",
    "        name = name,\n",
    "        visible = visible,\n",
    "        opacity = 0.8)\n",
    "    count += 1\n",
    "    data.append(team_trace)"
   ]
  },
  {
   "cell_type": "code",
   "execution_count": 1224,
   "metadata": {},
   "outputs": [],
   "source": [
    "#filters\n",
    "team_buttons = []\n",
    "topteams_buttons = []\n",
    "\n",
    "\"\"\"\n",
    "#filter for teams\n",
    "clear = teams == teams\n",
    "team_buttons.append(dict(label = 'All',\n",
    "                    method = 'update',\n",
    "                    args = [{'visible': clear},\n",
    "                            {'title': 'Top 50 Soccer Teams in the World'}]))\n",
    "\n",
    "for team in teams:\n",
    "    team_visibility = teams == team\n",
    "    team_dict = dict(label = team,\n",
    "                     method = 'update',\n",
    "                     args = [{'visible': team_visibility},\n",
    "                             {'title': team}])\n",
    "    team_buttons.append(team_dict)\n",
    "\"\"\"\n",
    "\n",
    "#filter for top teams\n",
    "top = [5, 10, 25, 50]\n",
    "for count in top:\n",
    "    top = teams[:count]\n",
    "    team_visibility = np.where(np.isin(teams, top), True, False)\n",
    "    team_dict = dict(label = 'Top {0}'.format(count),\n",
    "                     method = 'update',\n",
    "                     args = [{'visible': team_visibility},\n",
    "                             {'title': 'Top {0} Soccer Teams in the World'.format(count)}])\n",
    "    topteams_buttons.append(team_dict)\n",
    "\n",
    "\n",
    "updatemenus = list ([\n",
    "    dict(active=0,\n",
    "         showactive = True,\n",
    "         xanchor = 'left',\n",
    "         yanchor = 'top', \n",
    "         x = -0.05,\n",
    "         y = 1.3,\n",
    "         type='buttons',\n",
    "         direction='right',\n",
    "         buttons = topteams_buttons)\n",
    "])"
   ]
  },
  {
   "cell_type": "code",
   "execution_count": 1225,
   "metadata": {},
   "outputs": [
    {
     "data": {
      "text/html": [
       "<iframe id=\"igraph\" scrolling=\"no\" style=\"border:none;\" seamless=\"seamless\" src=\"https://plot.ly/~cathyhax/37.embed\" height=\"525px\" width=\"100%\"></iframe>"
      ],
      "text/plain": [
       "<plotly.tools.PlotlyDisplay object>"
      ]
     },
     "execution_count": 1225,
     "metadata": {},
     "output_type": "execute_result"
    }
   ],
   "source": [
    "layout = dict(\n",
    "    title='Top 5 Soccer Teams in the World',\n",
    "    hovermode = 'closest',\n",
    "    xaxis = dict(\n",
    "        rangeselector=dict(\n",
    "            buttons=list([\n",
    "                dict(count=1,\n",
    "                     label='1m',\n",
    "                     step='month',\n",
    "                     stepmode='backward'),\n",
    "                dict(count=6,\n",
    "                     label='6m',\n",
    "                     step='month',\n",
    "                     stepmode='backward'),\n",
    "                dict(step='all')\n",
    "            ])\n",
    "        ),\n",
    "        rangeslider=dict(\n",
    "            visible = True\n",
    "        ),\n",
    "        type='date'\n",
    "    ),\n",
    "    yaxis = dict(\n",
    "        showgrid=False\n",
    "    ),\n",
    "    updatemenus=updatemenus\n",
    ")\n",
    "\n",
    "fig = dict(data = data, layout=layout)\n",
    "py.iplot(fig, filename='soccer_elo_all_50')"
   ]
  },
  {
   "cell_type": "markdown",
   "metadata": {},
   "source": [
    "## Ratings Deviation"
   ]
  },
  {
   "cell_type": "code",
   "execution_count": 1110,
   "metadata": {},
   "outputs": [],
   "source": [
    "team_fixture_all = rating.ratings_teams_fixtures\n",
    "team_fixture_all = team_fixture_all.set_index('id')\n",
    "team_fixture_all = team_fixture_all.join(fixtures[['localteam_name', 'visitorteam_name', 'localteam_score', 'visitorteam_score', 'world_region', 'league_name', 'league_id']], how='inner')"
   ]
  },
  {
   "cell_type": "code",
   "execution_count": 1111,
   "metadata": {},
   "outputs": [],
   "source": [
    "team_fixture_all['r_diff'] = np.abs(team_fixture_all['team_r'] - team_fixture_all['team_post_r'])"
   ]
  },
  {
   "cell_type": "markdown",
   "metadata": {},
   "source": [
    "### Define Volatility"
   ]
  },
  {
   "cell_type": "code",
   "execution_count": 1112,
   "metadata": {
    "collapsed": true
   },
   "outputs": [],
   "source": [
    "def volatility(arr):\n",
    "    \n",
    "    arr = np.maximum(np.minimum(arr, 1 - 10**-15), 10**-15)\n",
    "    #log_difference = np.log(arr)\n",
    "    result = np.std(arr)\n",
    "    \n",
    "    return result"
   ]
  },
  {
   "cell_type": "markdown",
   "metadata": {},
   "source": [
    "### Filter matches down to major leagues"
   ]
  },
  {
   "cell_type": "code",
   "execution_count": 1245,
   "metadata": {},
   "outputs": [],
   "source": [
    "#For major leagues\n",
    "fixture_major = team_fixture_all[team_fixture_all['league_id'].isin(major_leagues)]\n",
    "team_id_major = fixture_major['team_id'].unique()\n",
    "team_fixture_major = team_fixture_all[(team_fixture_all['team_id'].isin(team_id_major)) & (team_fixture_all['team_id'] != 16951)]\n",
    "\n",
    "count_fixtures = team_fixture_major.groupby('team_id')['team_id'].count().reset_index(name='count')\n",
    "count_fixtures = count_fixtures[count_fixtures['count'] > 300]\n",
    "\n",
    "#filter out teams that have less than 300 fixtures\n",
    "team_fixture_major = team_fixture_major[team_fixture_major['team_id'] \\\n",
    "                                    .isin(count_fixtures['team_id'])] \\\n",
    "                                    .sort_values(['team_id', 'order'])"
   ]
  },
  {
   "cell_type": "code",
   "execution_count": 1246,
   "metadata": {
    "collapsed": true
   },
   "outputs": [],
   "source": [
    "#calculate pct change in ratings\n",
    "team_fixture_major['rating_change'] = team_fixture_major.groupby('team_id')['team_r'].pct_change()\n",
    "team_fixture_major['rating_change'] = team_fixture_major['rating_change'].fillna(0)"
   ]
  },
  {
   "cell_type": "code",
   "execution_count": 1247,
   "metadata": {},
   "outputs": [],
   "source": [
    "deviation_major = team_fixture_major.groupby('team_id')['rating_change'].apply(volatility) \\\n",
    "                .reset_index(name='volatility') \n",
    "dev_major_five = deviation_major.sort_values(['team_id', 'volatility'], ascending=False).head()['team_id'].values"
   ]
  },
  {
   "cell_type": "markdown",
   "metadata": {},
   "source": [
    "### Filter matches down to teams who have played a certain number of matches"
   ]
  },
  {
   "cell_type": "code",
   "execution_count": 1248,
   "metadata": {
    "collapsed": true
   },
   "outputs": [],
   "source": [
    "#For all leagues\n",
    "#filter out teams that have less than 350 fixtures\n",
    "count_fixtures = team_fixture_all.groupby('team_id')['team_id'].count().reset_index(name='count')\n",
    "count_fixtures = count_fixtures[count_fixtures['count'] > 300]\n",
    "\n",
    "team_fixture_condensed = team_fixture_all[team_fixture_all['team_id'] \\\n",
    "                                    .isin(count_fixtures['team_id'])] \\\n",
    "                                    .sort_values(['team_id', 'order'])"
   ]
  },
  {
   "cell_type": "code",
   "execution_count": 1249,
   "metadata": {
    "collapsed": true
   },
   "outputs": [],
   "source": [
    "#calculate pct change in ratings\n",
    "team_fixture_condensed['rating_change'] = team_fixture_condensed.groupby('team_id')['team_r'].pct_change()\n",
    "team_fixture_condensed['rating_change'] = team_fixture_condensed['rating_change'].fillna(0)"
   ]
  },
  {
   "cell_type": "code",
   "execution_count": 1250,
   "metadata": {
    "collapsed": true
   },
   "outputs": [],
   "source": [
    "deviation_cond = team_fixture_condensed.groupby('team_id')['rating_change'].apply(volatility) \\\n",
    "                .reset_index(name='volatility') \n",
    "dev_cond_five = deviation_cond.sort_values(['team_id', 'volatility'], ascending=False).head()['team_id'].values"
   ]
  },
  {
   "cell_type": "markdown",
   "metadata": {},
   "source": [
    "### Plot results"
   ]
  },
  {
   "cell_type": "code",
   "execution_count": 1251,
   "metadata": {},
   "outputs": [],
   "source": [
    "dev_all = np.append(dev_major_five, dev_cond_five)"
   ]
  },
  {
   "cell_type": "code",
   "execution_count": 1252,
   "metadata": {
    "scrolled": true
   },
   "outputs": [
    {
     "data": {
      "image/png": "[encoded data removed]",
      "text/plain": [
       "<matplotlib.figure.Figure at 0x20a31d91630>"
      ]
     },
     "metadata": {},
     "output_type": "display_data"
    }
   ],
   "source": [
    "colors_major = sns.cubehelix_palette(n_colors=5, start=-0.9, rot=1, dark=0.3, reverse=True)\n",
    "colors_cond = sns.cubehelix_palette(n_colors=5, start=.5, rot=-.75, dark=0.3, reverse=True)\n",
    "colors = colors_major + colors_cond\n",
    "sns.palplot(colors)\n",
    "\n",
    "team_colors = []\n",
    "\n",
    "for color in colors:\n",
    "    values = []\n",
    "    for value in color:\n",
    "        value *= 255\n",
    "        values.append(value)\n",
    "    values_text = ', '.join(str(x) for x in values)\n",
    "    values_rgb_str = 'rgb('+ values_text + ')'\n",
    "    team_colors.append(values_rgb_str)"
   ]
  },
  {
   "cell_type": "code",
   "execution_count": 1256,
   "metadata": {},
   "outputs": [],
   "source": [
    "#filters\n",
    "dev_grp_buttons = []\n",
    "\n",
    "#filter for major leagues\n",
    "team_visibility = [True, True, True, True, True, False, False, False, False, False]\n",
    "team_dict = dict(label = 'Major Leagues',\n",
    "                 method = 'update',\n",
    "                 args = [{'visible': team_visibility},\n",
    "                         {'title': 'Most Inconsistent Teams - Major European Leagues'}])\n",
    "dev_grp_buttons.append(team_dict)\n",
    "\n",
    "team_visibility = [False, False, False, False, False, True, True, True, True, True]\n",
    "team_dict = dict(label = 'All Leagues',\n",
    "                 method = 'update',\n",
    "                 args = [{'visible': team_visibility},\n",
    "                         {'title': 'Most Inconsistent Teams - All Leagues'}])\n",
    "dev_grp_buttons.append(team_dict)\n",
    "\n",
    "\n",
    "updatemenus = list ([\n",
    "    dict(active=0,\n",
    "         showactive = True,\n",
    "         xanchor = 'left',\n",
    "         yanchor = 'top', \n",
    "         x = -0.05,\n",
    "         y = 1.3,\n",
    "         type='buttons',\n",
    "         direction='right',\n",
    "         buttons = dev_grp_buttons)\n",
    "])"
   ]
  },
  {
   "cell_type": "code",
   "execution_count": 1257,
   "metadata": {},
   "outputs": [],
   "source": [
    "data = []\n",
    "count = 0\n",
    "\n",
    "for team in dev_all:\n",
    "    if count < 5:\n",
    "        visible = True\n",
    "    else:\n",
    "        visible = False\n",
    "    team_data = team_fixture_all[team_fixture_all['team_id'] == team].sort_values('order')\n",
    "    hovertext_local = team_data['localteam_name'] + ' ' + team_data['localteam_score'].map(str)\n",
    "    hovertext_visitor =  team_data['visitorteam_score'].map(str) + ' ' + team_data['visitorteam_name']\n",
    "    hovertext = team_data['league_name'] + ': ' + hovertext_local.str.cat(hovertext_visitor.astype(str), sep=' vs. ')\n",
    "    team_country = team_info[team_info['team_id'] == team]['iso'].values[0]\n",
    "    team_name = team_data[team_data['team_id'] == team]['team_name'].unique()[0]\n",
    "    name =  team_name + ' (' + team_country + ')'\n",
    "    team_trace = go.Scatter(\n",
    "        x = team_data.order,\n",
    "        y = team_data.team_post_r,\n",
    "        hovertext = hovertext,\n",
    "        line = {'color': team_colors[count]},\n",
    "        visible = visible,\n",
    "        name = name,\n",
    "        opacity = 0.8)\n",
    "    data.append(team_trace)\n",
    "    count += 1"
   ]
  },
  {
   "cell_type": "code",
   "execution_count": 1258,
   "metadata": {},
   "outputs": [
    {
     "data": {
      "text/html": [
       "<iframe id=\"igraph\" scrolling=\"no\" style=\"border:none;\" seamless=\"seamless\" src=\"https://plot.ly/~cathyhax/51.embed\" height=\"525px\" width=\"100%\"></iframe>"
      ],
      "text/plain": [
       "<plotly.tools.PlotlyDisplay object>"
      ]
     },
     "execution_count": 1258,
     "metadata": {},
     "output_type": "execute_result"
    }
   ],
   "source": [
    "layout = dict(\n",
    "    title='Most Inconsistent Teams - Major European Leagues',\n",
    "    hovermode = 'closest',\n",
    "    xaxis = dict(\n",
    "        rangeselector=dict(\n",
    "            buttons=list([\n",
    "                dict(count=1,\n",
    "                     label='1m',\n",
    "                     step='month',\n",
    "                     stepmode='backward'),\n",
    "                dict(count=6,\n",
    "                     label='6m',\n",
    "                     step='month',\n",
    "                     stepmode='backward'),\n",
    "                dict(step='all')\n",
    "            ])\n",
    "        ),\n",
    "        rangeslider=dict(\n",
    "            visible = True\n",
    "        ),\n",
    "        type='date'\n",
    "    ),\n",
    "    yaxis = dict(\n",
    "        showgrid=False\n",
    "    ),\n",
    "    updatemenus=updatemenus\n",
    ")\n",
    "\n",
    "fig = dict(data = data, layout=layout)\n",
    "py.iplot(fig, filename='soccer_elo_top_deviation')"
   ]
  },
  {
   "cell_type": "code",
   "execution_count": null,
   "metadata": {
    "collapsed": true
   },
   "outputs": [],
   "source": []
  },
  {
   "cell_type": "code",
   "execution_count": null,
   "metadata": {
    "collapsed": true
   },
   "outputs": [],
   "source": []
  },
  {
   "cell_type": "code",
   "execution_count": null,
   "metadata": {
    "collapsed": true
   },
   "outputs": [],
   "source": []
  }
 ],
 "metadata": {
  "kernelspec": {
   "display_name": "Python 3",
   "language": "python",
   "name": "python3"
  },
  "language_info": {
   "codemirror_mode": {
    "name": "ipython",
    "version": 3
   },
   "file_extension": ".py",
   "mimetype": "text/x-python",
   "name": "python",
   "nbconvert_exporter": "python",
   "pygments_lexer": "ipython3",
   "version": "3.6.3"
  }
 },
 "nbformat": 4,
 "nbformat_minor": 2
}
