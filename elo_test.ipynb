{
 "cells": [
  {
   "cell_type": "code",
   "execution_count": 10,
   "metadata": {},
   "outputs": [],
   "source": [
    "import pandas as pd\n",
    "import numpy as np\n",
    "from numpy import vectorize\n",
    "import seaborn as sns\n",
    "import matplotlib.pyplot as plt\n",
    "%matplotlib inline\n",
    "from time import time\n",
    "\n",
    "import plotly\n",
    "\n",
    "import plotly.plotly as py\n",
    "import plotly.graph_objs as go\n",
    "\n",
    "from ratings.Elo import Elo\n",
    "from ratings.helpers import log_loss\n",
    "from ratings.helpers import squared_error\n",
    "\n",
    "from ratings.Rate import Rate\n",
    "from scipy import stats"
   ]
  },
  {
   "cell_type": "markdown",
   "metadata": {},
   "source": [
    "### Data issues: \n",
    "2012/13 Bundesliga season starts in Jan 2013\n",
    "2011/2012 Bundesliga season has a fixture in 2015"
   ]
  },
  {
   "cell_type": "markdown",
   "metadata": {},
   "source": [
    "### Modelling Conclusions:\n",
    "For Bundesliga:\n",
    "- Logistic: Calculations completed in 70.774069 seconds with a log loss of 0.279777 and a mean squared error of 0.165505\n",
    "- Five-thirty-eight: Calculations completed in 79.368154 seconds with a log loss of 0.279479 and a mean squared error of 0.165106\n",
    "- seems like regressing to mean is not a good approach\n",
    "\n",
    "General conclusions:\n",
    "- k of 20, h of 70, Sd=True seems to be a good setting for a lot of major leagues\n",
    "- Glicko not as good as a well-tuned Elo?"
   ]
  },
  {
   "cell_type": "code",
   "execution_count": 11,
   "metadata": {},
   "outputs": [],
   "source": [
    "fixtures = pd.read_csv('soccer_data.csv')"
   ]
  },
  {
   "cell_type": "code",
   "execution_count": 12,
   "metadata": {
    "collapsed": true
   },
   "outputs": [],
   "source": [
    "#Use Champions League to test\n",
    "fixtures_f = fixtures[(fixtures['league_name'] == 'Premier League') & (fixtures['country_name'] == 'England')]"
   ]
  },
  {
   "cell_type": "code",
   "execution_count": 13,
   "metadata": {},
   "outputs": [],
   "source": [
    "rating = Rate()"
   ]
  },
  {
   "cell_type": "code",
   "execution_count": 14,
   "metadata": {
    "scrolled": true
   },
   "outputs": [
    {
     "name": "stdout",
     "output_type": "stream",
     "text": [
      "Prepping data...\n",
      "Starting calculations...\n",
      "Calculations completed in 80.976509 seconds==================] 100.0% ... Hooray!\n"
     ]
    }
   ],
   "source": [
    "#log_loss = []\n",
    "#squared_error = []\n",
    "#Sd_methods = [\"Logistic\", \"Power\", \"538\"]\n",
    "#for method in Sd_methods:\n",
    "#log_loss.append(bundesliga.log_loss)\n",
    "#squared_error.append(bundesliga.squared_error)\n",
    "\n",
    "#Calculations completed in 50.906233 seconds with a log loss of 0.277650 and a mean squared error of 0.165147 (k of 20, h of 70, Sd=True)\n",
    "#Premier league: Calculations completed in 83.123719 seconds with a log loss of 0.268767 and a mean squared error of 0.150653 (k of 20, h of 70, Sd=True)\n",
    "\n",
    "rating.calculate_elo(fixtures_f, K=20, h=50, Sd=True) "
   ]
  },
  {
   "cell_type": "code",
   "execution_count": 15,
   "metadata": {
    "scrolled": true
   },
   "outputs": [],
   "source": [
    "fixtures_f = fixtures_f.join(rating.ratings_fixtures)"
   ]
  },
  {
   "cell_type": "markdown",
   "metadata": {},
   "source": [
    "### Extrapolating the three-way probability from two-way probability\n",
    "In order to calculate the three-way probability, we extrapolate the outcomes based on the home win probability, using lines of best fit"
   ]
  },
  {
   "cell_type": "code",
   "execution_count": 17,
   "metadata": {
    "collapsed": true
   },
   "outputs": [],
   "source": [
    "x = rating.ratings_fixtures['localteam_p'].values\n",
    "\n",
    "y_tie = np.where(fixtures_f['outcome']==0.5, 1, 0)\n",
    "y_home = np.where(fixtures_f['outcome']==1, 1, 0)\n",
    "y_away = np.where(fixtures_f['outcome']==0, 1, 0)"
   ]
  },
  {
   "cell_type": "code",
   "execution_count": 18,
   "metadata": {
    "scrolled": true
   },
   "outputs": [],
   "source": [
    "nbins = 50\n",
    "\n",
    "y_binned_h, x_bins_h = np.histogram(x, bins=nbins, weights=y_home)\n",
    "y_total_h, x_bins_h = np.histogram(x, bins=nbins)\n",
    "\n",
    "y_binned_a, x_bins_a = np.histogram(x, bins=nbins, weights=y_away)\n",
    "y_total_a, x_bins_a = np.histogram(x, bins=nbins)\n",
    "\n",
    "y_binned_t, x_bins_t = np.histogram(x, bins=nbins, weights=y_tie)\n",
    "y_total_t, x_bins_t = np.histogram(x, bins=nbins)"
   ]
  },
  {
   "cell_type": "code",
   "execution_count": 19,
   "metadata": {},
   "outputs": [],
   "source": [
    "mask_h = y_total_h > 15\n",
    "mask_a = y_total_a > 15\n",
    "mask_t = y_total_t > 15\n",
    "\n",
    "y_binned_h = y_binned_h[mask_h]\n",
    "y_binned_a = y_binned_a[mask_a]\n",
    "y_binned_t = y_binned_t[mask_t]\n",
    "\n",
    "y_total_h = y_total_h[mask_h]\n",
    "y_total_a = y_total_a[mask_a]\n",
    "y_total_t = y_total_t[mask_t]\n",
    "\n",
    "x_bins_h = x_bins_h[1:][mask_h]\n",
    "x_bins_a = x_bins_a[1:][mask_a]\n",
    "x_bins_t = x_bins_t[1:][mask_t]"
   ]
  },
  {
   "cell_type": "code",
   "execution_count": 20,
   "metadata": {
    "scrolled": true
   },
   "outputs": [],
   "source": [
    "mean_h = np.divide(y_binned_h, y_total_h)\n",
    "mean_h[np.isnan(mean_h)]=0\n",
    "\n",
    "mean_a = np.divide(y_binned_a, y_total_a)\n",
    "mean_a[np.isnan(mean_a)]=0\n",
    "\n",
    "mean_t = np.divide(y_binned_t, y_total_t)\n",
    "mean_t[np.isnan(mean_t)]=0"
   ]
  },
  {
   "cell_type": "code",
   "execution_count": 23,
   "metadata": {},
   "outputs": [],
   "source": [
    "z_h = np.polyfit(x_bins_h, mean_h, 2)\n",
    "p_h = np.poly1d(z_h)\n",
    "\n",
    "z_a = np.polyfit(x_bins_a, mean_a, 2)\n",
    "p_a = np.poly1d(z_a)\n",
    "\n",
    "z_t = np.polyfit(x_bins_t, mean_t, 2)\n",
    "p_t = np.poly1d(z_t)"
   ]
  },
  {
   "cell_type": "code",
   "execution_count": 24,
   "metadata": {},
   "outputs": [
    {
     "data": {
      "text/plain": [
       "[<matplotlib.lines.Line2D at 0x1acff1ba1d0>,\n",
       " <matplotlib.lines.Line2D at 0x1acfef33550>]"
      ]
     },
     "execution_count": 24,
     "metadata": {},
     "output_type": "execute_result"
    },
    {
     "data": {
      "image/png": "[encoded data removed]",
      "text/plain": [
       "<matplotlib.figure.Figure at 0x1acff1bad30>"
      ]
     },
     "metadata": {},
     "output_type": "display_data"
    }
   ],
   "source": [
    "line_h = p_h(x_bins_h)\n",
    "plt.plot(x_bins_h, mean_h ,'o', x_bins_h, line_h)\n",
    "\n",
    "line_a = p_a(x_bins_a)\n",
    "plt.plot(x_bins_a, mean_a ,'o', x_bins_a, line_a)\n",
    "\n",
    "line_t = p_t(x_bins_t)\n",
    "plt.plot(x_bins_t, mean_t ,'o', x_bins_t, line_t)"
   ]
  },
  {
   "cell_type": "code",
   "execution_count": 25,
   "metadata": {
    "collapsed": true
   },
   "outputs": [],
   "source": [
    "def three_way_probability(p):\n",
    "    #p_home = slope_h * p + i_h\n",
    "    #p_away = slope_a * p + i_a\n",
    "    \n",
    "    p_tie =  p_t(p)\n",
    "    p_away =  p_a(p)\n",
    "    p_home = p_h(p)\n",
    "\n",
    "    return p_home, p_away, p_tie"
   ]
  },
  {
   "cell_type": "code",
   "execution_count": 26,
   "metadata": {},
   "outputs": [],
   "source": [
    "p_home, p_away, p_tie = three_way_probability(x)"
   ]
  },
  {
   "cell_type": "code",
   "execution_count": 27,
   "metadata": {
    "collapsed": true
   },
   "outputs": [],
   "source": [
    "p_total = p_home + p_away + p_tie"
   ]
  },
  {
   "cell_type": "markdown",
   "metadata": {},
   "source": [
    "### Distribution of actual outcomes vs. Predictions"
   ]
  },
  {
   "cell_type": "code",
   "execution_count": 28,
   "metadata": {},
   "outputs": [
    {
     "name": "stdout",
     "output_type": "stream",
     "text": [
      "1.0    1560\n",
      "0.0     993\n",
      "0.5     878\n",
      "Name: outcome, dtype: int64\n",
      "1.0    0.454678\n",
      "0.0    0.289420\n",
      "0.5    0.255902\n",
      "Name: outcome, dtype: float64\n"
     ]
    }
   ],
   "source": [
    "total = len(fixtures_f)\n",
    "\n",
    "outcome_counts = fixtures_f['outcome'].value_counts()\n",
    "outcome_dist = outcome_counts / total\n",
    "print(outcome_counts)\n",
    "print(outcome_dist)"
   ]
  },
  {
   "cell_type": "code",
   "execution_count": 29,
   "metadata": {},
   "outputs": [
    {
     "name": "stdout",
     "output_type": "stream",
     "text": [
      "0.443910229559\n",
      "0.299011066399\n",
      "0.257078704041\n"
     ]
    }
   ],
   "source": [
    "print(np.mean(p_home))\n",
    "print(np.mean(p_away)) #overestimating away probability\n",
    "print(np.mean(p_tie)) #underestimating tie probability"
   ]
  },
  {
   "cell_type": "markdown",
   "metadata": {},
   "source": [
    "### Confusion Matrix"
   ]
  },
  {
   "cell_type": "code",
   "execution_count": 30,
   "metadata": {},
   "outputs": [
    {
     "data": {
      "image/png": "[encoded data removed]",
      "text/plain": [
       "<matplotlib.figure.Figure at 0x1acffc6df60>"
      ]
     },
     "metadata": {},
     "output_type": "display_data"
    },
    {
     "data": {
      "text/plain": [
       "array([[ 449,  351,  193],\n",
       "       [ 185, 1160,  215],\n",
       "       [ 194,  493,  191]], dtype=int64)"
      ]
     },
     "execution_count": 30,
     "metadata": {},
     "output_type": "execute_result"
    }
   ],
   "source": [
    "rating.get_confusion_matrix()"
   ]
  },
  {
   "cell_type": "markdown",
   "metadata": {},
   "source": [
    "### Precision, Recall, and f1-score"
   ]
  },
  {
   "cell_type": "code",
   "execution_count": 33,
   "metadata": {},
   "outputs": [
    {
     "name": "stdout",
     "output_type": "stream",
     "text": [
      "             precision    recall  f1-score   support\n",
      "\n",
      "   Away Win       0.54      0.45      0.49       993\n",
      "   Home Win       0.58      0.74      0.65      1560\n",
      "        Tie       0.32      0.22      0.26       878\n",
      "\n",
      "avg / total       0.50      0.52      0.50      3431\n",
      "\n"
     ]
    }
   ],
   "source": [
    "print(rating.get_classification_report())"
   ]
  },
  {
   "cell_type": "markdown",
   "metadata": {},
   "source": [
    "### ROC"
   ]
  },
  {
   "cell_type": "code",
   "execution_count": 35,
   "metadata": {},
   "outputs": [
    {
     "data": {
      "image/png": "[encoded data removed]",
      "text/plain": [
       "<matplotlib.figure.Figure at 0x1acffafb550>"
      ]
     },
     "metadata": {},
     "output_type": "display_data"
    },
    {
     "data": {
      "text/plain": [
       "{'Away Win': 0.70942694843015519,\n",
       " 'Home Win': 0.71866085568627647,\n",
       " 'Tie': 0.57886496479642968,\n",
       " 'macro': 0.66921400958693467,\n",
       " 'micro': 0.70502302076978973}"
      ]
     },
     "execution_count": 35,
     "metadata": {},
     "output_type": "execute_result"
    }
   ],
   "source": [
    "rating.get_roc()"
   ]
  },
  {
   "cell_type": "markdown",
   "metadata": {},
   "source": [
    "### Log Loss"
   ]
  },
  {
   "cell_type": "code",
   "execution_count": 36,
   "metadata": {},
   "outputs": [
    {
     "data": {
      "text/plain": [
       "1.5087469848326158"
      ]
     },
     "execution_count": 36,
     "metadata": {},
     "output_type": "execute_result"
    }
   ],
   "source": [
    "rating.get_log_loss()"
   ]
  },
  {
   "cell_type": "markdown",
   "metadata": {},
   "source": [
    "### Predictive Power for latest set of matches"
   ]
  },
  {
   "cell_type": "code",
   "execution_count": 209,
   "metadata": {
    "collapsed": true
   },
   "outputs": [],
   "source": [
    "last_ratings = rating.ratings_teams_fixtures.groupby('team_id').last()\n",
    "s = last_ratings['outcome'].values\n",
    "p = last_ratings['team_p'].values"
   ]
  },
  {
   "cell_type": "code",
   "execution_count": 138,
   "metadata": {},
   "outputs": [
    {
     "data": {
      "text/plain": [
       "0.24635003200955796"
      ]
     },
     "execution_count": 138,
     "metadata": {},
     "output_type": "execute_result"
    }
   ],
   "source": [
    "log_loss(s, p)"
   ]
  },
  {
   "cell_type": "markdown",
   "metadata": {},
   "source": [
    "# Graphing Results in Plot.ly"
   ]
  },
  {
   "cell_type": "code",
   "execution_count": 43,
   "metadata": {},
   "outputs": [
    {
     "data": {
      "text/html": [
       "<div>\n",
       "<style>\n",
       "    .dataframe thead tr:only-child th {\n",
       "        text-align: right;\n",
       "    }\n",
       "\n",
       "    .dataframe thead th {\n",
       "        text-align: left;\n",
       "    }\n",
       "\n",
       "    .dataframe tbody tr th {\n",
       "        vertical-align: top;\n",
       "    }\n",
       "</style>\n",
       "<table border=\"1\" class=\"dataframe\">\n",
       "  <thead>\n",
       "    <tr style=\"text-align: right;\">\n",
       "      <th></th>\n",
       "      <th>team_name</th>\n",
       "      <th>rating</th>\n",
       "    </tr>\n",
       "    <tr>\n",
       "      <th>team_id</th>\n",
       "      <th></th>\n",
       "      <th></th>\n",
       "    </tr>\n",
       "  </thead>\n",
       "  <tbody>\n",
       "    <tr>\n",
       "      <th>9.0</th>\n",
       "      <td>Manchester City</td>\n",
       "      <td>1876.755076</td>\n",
       "    </tr>\n",
       "    <tr>\n",
       "      <th>6.0</th>\n",
       "      <td>Tottenham Hotspur</td>\n",
       "      <td>1792.140726</td>\n",
       "    </tr>\n",
       "    <tr>\n",
       "      <th>14.0</th>\n",
       "      <td>Manchester United</td>\n",
       "      <td>1761.182772</td>\n",
       "    </tr>\n",
       "    <tr>\n",
       "      <th>8.0</th>\n",
       "      <td>Liverpool</td>\n",
       "      <td>1751.869369</td>\n",
       "    </tr>\n",
       "    <tr>\n",
       "      <th>18.0</th>\n",
       "      <td>Chelsea</td>\n",
       "      <td>1703.108883</td>\n",
       "    </tr>\n",
       "    <tr>\n",
       "      <th>19.0</th>\n",
       "      <td>Arsenal</td>\n",
       "      <td>1670.842908</td>\n",
       "    </tr>\n",
       "    <tr>\n",
       "      <th>13.0</th>\n",
       "      <td>Everton</td>\n",
       "      <td>1563.119317</td>\n",
       "    </tr>\n",
       "    <tr>\n",
       "      <th>51.0</th>\n",
       "      <td>Crystal Palace</td>\n",
       "      <td>1555.639173</td>\n",
       "    </tr>\n",
       "    <tr>\n",
       "      <th>42.0</th>\n",
       "      <td>Leicester City</td>\n",
       "      <td>1543.214279</td>\n",
       "    </tr>\n",
       "    <tr>\n",
       "      <th>27.0</th>\n",
       "      <td>Burnley</td>\n",
       "      <td>1525.302184</td>\n",
       "    </tr>\n",
       "  </tbody>\n",
       "</table>\n",
       "</div>"
      ],
      "text/plain": [
       "                 team_name       rating\n",
       "team_id                                \n",
       "9.0        Manchester City  1876.755076\n",
       "6.0      Tottenham Hotspur  1792.140726\n",
       "14.0     Manchester United  1761.182772\n",
       "8.0              Liverpool  1751.869369\n",
       "18.0               Chelsea  1703.108883\n",
       "19.0               Arsenal  1670.842908\n",
       "13.0               Everton  1563.119317\n",
       "51.0        Crystal Palace  1555.639173\n",
       "42.0        Leicester City  1543.214279\n",
       "27.0               Burnley  1525.302184"
      ]
     },
     "execution_count": 43,
     "metadata": {},
     "output_type": "execute_result"
    }
   ],
   "source": [
    "#Top teams\n",
    "rating.ratings_teams.head(10)"
   ]
  },
  {
   "cell_type": "code",
   "execution_count": 37,
   "metadata": {
    "collapsed": true
   },
   "outputs": [],
   "source": [
    "team_fixture_r = rating.ratings_teams_fixtures"
   ]
  },
  {
   "cell_type": "code",
   "execution_count": 38,
   "metadata": {
    "collapsed": true
   },
   "outputs": [],
   "source": [
    "teams = team_fixture_r.team_name.unique()"
   ]
  },
  {
   "cell_type": "code",
   "execution_count": 39,
   "metadata": {
    "collapsed": true
   },
   "outputs": [],
   "source": [
    "data = []\n",
    "\n",
    "for team in teams:\n",
    "    team_data = team_fixture_r[team_fixture_r['team_name'] == team]\n",
    "    team_trace = go.Scatter(\n",
    "        x = team_data.order,\n",
    "        y = team_data.team_r,\n",
    "        name = team,\n",
    "        opacity = 0.8)\n",
    "    data.append(team_trace)"
   ]
  },
  {
   "cell_type": "code",
   "execution_count": 40,
   "metadata": {},
   "outputs": [
    {
     "data": {
      "text/html": [
       "<iframe id=\"igraph\" scrolling=\"no\" style=\"border:none;\" seamless=\"seamless\" src=\"https://plot.ly/~cathyhax/16.embed\" height=\"525px\" width=\"100%\"></iframe>"
      ],
      "text/plain": [
       "<plotly.tools.PlotlyDisplay object>"
      ]
     },
     "execution_count": 40,
     "metadata": {},
     "output_type": "execute_result"
    }
   ],
   "source": [
    "fig = dict(data = data)\n",
    "py.iplot(data)"
   ]
  },
  {
   "cell_type": "code",
   "execution_count": null,
   "metadata": {
    "collapsed": true
   },
   "outputs": [],
   "source": []
  }
 ],
 "metadata": {
  "kernelspec": {
   "display_name": "Python 3",
   "language": "python",
   "name": "python3"
  },
  "language_info": {
   "codemirror_mode": {
    "name": "ipython",
    "version": 3
   },
   "file_extension": ".py",
   "mimetype": "text/x-python",
   "name": "python",
   "nbconvert_exporter": "python",
   "pygments_lexer": "ipython3",
   "version": "3.6.3"
  }
 },
 "nbformat": 4,
 "nbformat_minor": 2
}
