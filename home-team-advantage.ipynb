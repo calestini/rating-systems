{
 "cells": [
  {
   "cell_type": "code",
   "execution_count": 50,
   "metadata": {},
   "outputs": [
    {
     "name": "stderr",
     "output_type": "stream",
     "text": [
      "IOPub data rate exceeded.\n",
      "The notebook server will temporarily stop sending output\n",
      "to the client in order to avoid crashing it.\n",
      "To change this limit, set the config variable\n",
      "`--NotebookApp.iopub_data_rate_limit`.\n"
     ]
    }
   ],
   "source": [
    "import pandas as pd\n",
    "import numpy as np\n",
    "from numpy import vectorize\n",
    "import seaborn as sns\n",
    "import matplotlib.pyplot as plt\n",
    "%matplotlib inline\n",
    "from time import time\n",
    "\n",
    "import plotly\n",
    "\n",
    "import plotly.plotly as py\n",
    "import plotly.graph_objs as go\n",
    "\n",
    "from ratings.Elo import Elo\n",
    "from ratings.helpers import log_loss, mlog_loss\n",
    "from ratings.helpers import squared_error\n",
    "\n",
    "from ratings.Rate import Rate\n",
    "from scipy import stats\n",
    "import timeit\n",
    "\n",
    "import  plotly.plotly as py\n",
    "import plotly.graph_objs as go\n",
    "import plotly.offline as offline\n",
    "from plotly.offline import download_plotlyjs, init_notebook_mode, plot, iplot\n",
    "init_notebook_mode(connected=False)"
   ]
  },
  {
   "cell_type": "code",
   "execution_count": 2,
   "metadata": {
    "collapsed": true
   },
   "outputs": [],
   "source": [
    "#Read in data\n",
    "fixtures = pd.read_csv('soccer_data_new.csv')\n",
    "team_info = pd.read_csv('team_info.csv')"
   ]
  },
  {
   "cell_type": "code",
   "execution_count": 3,
   "metadata": {
    "collapsed": true
   },
   "outputs": [],
   "source": [
    "#Torneo colors\n",
    "galaxy_rgb = 'rgb(54,62,79)'\n",
    "ocean_rgb = 'rgb(14,113,163)'\n",
    "glacier_rgb = 'rgb(82,194,184)'\n",
    "orangepop_rgb = 'rgb(241,91,36)'\n",
    "cloud_rgb = 'rgb(66,186,225)'\n",
    "\n",
    "galaxy = '#363E4F'\n",
    "galaxy_light = '#5d6b89'\n",
    "ocean = '#0e71a3'\n",
    "ocean_light = '#8ad1f5'\n",
    "glacier = '#52c2b8'\n",
    "glacier_light = '#a1ded9'\n",
    "orangepop = '#f15b24'\n",
    "orangepop_light = '#f6936f'\n",
    "cloud = '#42bae1'\n",
    "cloud_light = '#e9f7fc'"
   ]
  },
  {
   "cell_type": "markdown",
   "metadata": {},
   "source": [
    "## Home Team Advantage"
   ]
  },
  {
   "cell_type": "code",
   "execution_count": 4,
   "metadata": {
    "collapsed": true
   },
   "outputs": [],
   "source": [
    "#localteam_id\n",
    "#visitorteam_id\n",
    "fixtures.sort_values('starting_datetime', ascending=False, inplace=True)"
   ]
  },
  {
   "cell_type": "code",
   "execution_count": 5,
   "metadata": {
    "collapsed": true
   },
   "outputs": [],
   "source": [
    "local_fixtures = team_info.merge(fixtures, left_on='team_id', right_on='localteam_id', how='inner')\n",
    "visitor_fixtures = team_info.merge(fixtures, left_on='team_id', right_on='visitorteam_id', how='inner')\n",
    "all_fixtures = local_fixtures.append(visitor_fixtures, ignore_index=True)"
   ]
  },
  {
   "cell_type": "code",
   "execution_count": 6,
   "metadata": {
    "collapsed": true
   },
   "outputs": [],
   "source": [
    "all_fixtures['home_away'] = np.where(all_fixtures['team_id']==all_fixtures['localteam_id'], 'home', 'away')"
   ]
  },
  {
   "cell_type": "code",
   "execution_count": 7,
   "metadata": {
    "collapsed": true
   },
   "outputs": [],
   "source": [
    "conditions = [\n",
    "    ((all_fixtures['home_away'] == 'home') & (all_fixtures['localteam_score'] > all_fixtures['visitorteam_score'])) |\\\n",
    "    ((all_fixtures['home_away'] == 'away') & (all_fixtures['visitorteam_score'] > all_fixtures['localteam_score'])),\n",
    "    ((all_fixtures['home_away'] == 'home') & (all_fixtures['localteam_score'] < all_fixtures['visitorteam_score'])) |\\\n",
    "    ((all_fixtures['home_away'] == 'away') & (all_fixtures['visitorteam_score'] < all_fixtures['localteam_score'])),\n",
    "    all_fixtures['localteam_score'] == all_fixtures['visitorteam_score']\n",
    "]\n",
    "choices = ['won', 'lost', 'tied']\n",
    "\n",
    "all_fixtures['outcome'] = np.select(conditions, choices)"
   ]
  },
  {
   "cell_type": "code",
   "execution_count": 8,
   "metadata": {
    "collapsed": true
   },
   "outputs": [],
   "source": [
    "all_fixtures['team_score_for'] = np.where(all_fixtures['team_id'] == all_fixtures['localteam_id'], \\\n",
    "                                     all_fixtures['localteam_score'], all_fixtures['visitorteam_score'])\n",
    "all_fixtures['team_score_against'] = np.where(all_fixtures['team_id'] == all_fixtures['localteam_id'], \\\n",
    "                                     all_fixtures['visitorteam_score'], all_fixtures['localteam_score'])"
   ]
  },
  {
   "cell_type": "code",
   "execution_count": 9,
   "metadata": {
    "collapsed": true
   },
   "outputs": [],
   "source": [
    "all_fixtures['team_score_diff'] = all_fixtures['team_score_for'] - all_fixtures['team_score_against']\n",
    "all_fixtures = all_fixtures.join(pd.get_dummies(all_fixtures['outcome'], prefix='outcome'))\n",
    "all_fixtures['home_away_bin'] = np.where(all_fixtures['home_away']=='home',1,0)"
   ]
  },
  {
   "cell_type": "code",
   "execution_count": 10,
   "metadata": {
    "collapsed": true
   },
   "outputs": [],
   "source": [
    "major_leagues = [8,2, 82, 570, 301,7907,7908,82,564,384,779,648,902, 743,\n",
    "            636, 968, 462, 486, 989, 208, 600, 609, 573, 591, 1356, 672, 453,\n",
    "            693, 959, 755, 501, 806, 770]\n",
    "major_league_fixtures = all_fixtures[all_fixtures['league_id'].isin(major_leagues)]"
   ]
  },
  {
   "cell_type": "code",
   "execution_count": 11,
   "metadata": {},
   "outputs": [
    {
     "data": {
      "text/plain": [
       "'\\nobserved = pl_fixtures[pl_fixtures[\\'home_away_bin\\']==1][\\'outcome\\'].value_counts().sort_values()\\nexpected = pd.Series({\\'won\\':1482, \\'lost\\':1482, \\'tied\\':1015}).sort_values()\\n\\nchi_squared_stat = (((observed-expected)**2)/expected).sum()\\n\\nprint(chi_squared_stat)\\n\\ncrit = stats.chi2.ppf(q = 0.95, # Find the critical value for 95% confidence*\\n                      df = 2)   # Df = number of variable categories - 1\\n\\nprint(\"Critical value\")\\nprint(crit)\\n\\np_value = 1 - stats.chi2.cdf(x = chi_squared_stat,  # Find the p-value\\n                             df= 2)\\nprint(\"P value\")\\nprint(p_value)\\n\\nstats.chisquare(f_obs = observed,   # Array of observed counts\\n                f_exp = expected)   # Array of expected counts\\n'"
      ]
     },
     "execution_count": 11,
     "metadata": {},
     "output_type": "execute_result"
    }
   ],
   "source": [
    "\"\"\"\n",
    "observed = pl_fixtures[pl_fixtures['home_away_bin']==1]['outcome'].value_counts().sort_values()\n",
    "expected = pd.Series({'won':1482, 'lost':1482, 'tied':1015}).sort_values()\n",
    "\n",
    "chi_squared_stat = (((observed-expected)**2)/expected).sum()\n",
    "\n",
    "print(chi_squared_stat)\n",
    "\n",
    "crit = stats.chi2.ppf(q = 0.95, # Find the critical value for 95% confidence*\n",
    "                      df = 2)   # Df = number of variable categories - 1\n",
    "\n",
    "print(\"Critical value\")\n",
    "print(crit)\n",
    "\n",
    "p_value = 1 - stats.chi2.cdf(x = chi_squared_stat,  # Find the p-value\n",
    "                             df= 2)\n",
    "print(\"P value\")\n",
    "print(p_value)\n",
    "\n",
    "stats.chisquare(f_obs = observed,   # Array of observed counts\n",
    "                f_exp = expected)   # Array of expected counts\n",
    "\"\"\""
   ]
  },
  {
   "cell_type": "code",
   "execution_count": 12,
   "metadata": {
    "collapsed": true
   },
   "outputs": [],
   "source": [
    "import scipy.stats\n",
    "\n",
    "results = []\n",
    "\n",
    "for league in major_league_fixtures['league_id'].unique():\n",
    "    data = major_league_fixtures[major_league_fixtures['league_id'] == league]\n",
    "    observed_chi2 = pd.crosstab(data['home_away_bin'], data['outcome']).values\n",
    "    chi2, p, dof, expected = stats.chi2_contingency(observed_chi2)\n",
    "    results.append(p)"
   ]
  },
  {
   "cell_type": "code",
   "execution_count": 13,
   "metadata": {
    "collapsed": true
   },
   "outputs": [],
   "source": [
    "chi2_test = pd.DataFrame(np.column_stack((major_league_fixtures['league_id'].unique(), [round(elem, 5) for elem in results])), \\\n",
    "                         columns=['league_id', 'p_value']) \\\n",
    "                        .set_index('league_id')"
   ]
  },
  {
   "cell_type": "code",
   "execution_count": 14,
   "metadata": {},
   "outputs": [
    {
     "data": {
      "text/plain": [
       "30"
      ]
     },
     "execution_count": 14,
     "metadata": {},
     "output_type": "execute_result"
    }
   ],
   "source": [
    "chi2_test.join(major_league_fixtures.groupby(['league_id', 'league_name', 'league_country'])['fixture_id']\n",
    "               .count().reset_index(name='count').set_index('league_id'))\n",
    "\n",
    "len(chi2_test)"
   ]
  },
  {
   "cell_type": "markdown",
   "metadata": {},
   "source": [
    "### By League"
   ]
  },
  {
   "cell_type": "code",
   "execution_count": 1338,
   "metadata": {
    "collapsed": true
   },
   "outputs": [],
   "source": [
    "fixture_counts = major_league_fixtures.groupby('league_id')['fixture_id'].count().reset_index(name='count')\n",
    "fixture_counts = fixture_counts[fixture_counts['count'] > 200]"
   ]
  },
  {
   "cell_type": "code",
   "execution_count": 1361,
   "metadata": {
    "collapsed": true
   },
   "outputs": [],
   "source": [
    "major_fixtures_grped = major_league_fixtures[(major_league_fixtures['home_away'] == 'home') & (major_league_fixtures['league_id'].isin(fixture_counts['league_id']))] \\\n",
    "                        .groupby(['league_id', 'league_name', 'league_country','outcome'])['fixture_id'].count()"
   ]
  },
  {
   "cell_type": "code",
   "execution_count": 1362,
   "metadata": {
    "collapsed": true
   },
   "outputs": [],
   "source": [
    "major_fixtures_grped = major_fixtures_grped.fillna(0)"
   ]
  },
  {
   "cell_type": "code",
   "execution_count": 1363,
   "metadata": {
    "collapsed": true
   },
   "outputs": [],
   "source": [
    "major_fixtures_grped = pd.DataFrame(major_fixtures_grped) \\\n",
    "                                     .groupby(level=[0,1,2])['fixture_id'] \\\n",
    "                                     .apply(lambda x: x / x.sum()) \\\n",
    "                                     .unstack('outcome')\n",
    "#major_fixtures_grped['ratio'] = major_fixtures_grped['won'] / major_fixtures_grped['lost']"
   ]
  },
  {
   "cell_type": "code",
   "execution_count": 1394,
   "metadata": {
    "collapsed": true
   },
   "outputs": [],
   "source": [
    "major_fixtures_grped['win_loss_ratio'] = major_fixtures_grped['won'] / major_fixtures_grped['lost']"
   ]
  },
  {
   "cell_type": "code",
   "execution_count": 1395,
   "metadata": {
    "collapsed": true
   },
   "outputs": [],
   "source": [
    "major_fixtures_grped.sort_values('win_loss_ratio', inplace=True)"
   ]
  },
  {
   "cell_type": "code",
   "execution_count": 1396,
   "metadata": {
    "collapsed": true
   },
   "outputs": [],
   "source": [
    "major_fixtures_grped = major_fixtures_grped.reset_index()"
   ]
  },
  {
   "cell_type": "code",
   "execution_count": 1514,
   "metadata": {},
   "outputs": [
    {
     "name": "stdout",
     "output_type": "stream",
     "text": [
      "This is the format of your plot grid:\n",
      "[ (1,1) x1,y1 ]  [ (1,2) x2,y2 ]\n",
      "\n"
     ]
    },
    {
     "data": {
      "text/plain": [
       "'file://C:\\\\Torneo\\\\soccer-elo-rating\\\\temp-plot.html'"
      ]
     },
     "execution_count": 1514,
     "metadata": {},
     "output_type": "execute_result"
    }
   ],
   "source": [
    "colors = [orangepop_rgb, galaxy_rgb, glacier_rgb]\n",
    "\n",
    "fig = tools.make_subplots(rows=1, cols=2, specs=[[{}, {}]], shared_xaxes=False,\n",
    "                          shared_yaxes=False, vertical_spacing=0.001)\n",
    "\n",
    "data = []\n",
    "columns = ['won', 'tied', 'lost']\n",
    "names = ['home win', 'tied', 'away win']\n",
    "\n",
    "for i, column in enumerate(columns):\n",
    "    data_new = go.Bar(\n",
    "        y=major_fixtures_grped['league_name'] + ' (' + major_fixtures_grped['league_country'] + ')  ',\n",
    "        x=major_fixtures_grped[column].values,\n",
    "        name=names[i],\n",
    "        marker=dict(color=colors[i]),\n",
    "        orientation='h'\n",
    "    )\n",
    "    fig.append_trace(data_new, 1, 1)\n",
    "    \n",
    "data_new = go.Bar(\n",
    "    y=major_fixtures_grped['league_name'] + ' (' + major_fixtures_grped['league_country'] + ')  ',\n",
    "    x=major_fixtures_grped['win_loss_ratio'].values,\n",
    "    name='home win/ away win ratio',\n",
    "    marker=dict(color=ocean),\n",
    "    orientation='h',\n",
    "    text=round(major_fixtures_grped['win_loss_ratio'],2).values,\n",
    "    textposition = 'auto',\n",
    "    textfont=dict(color='#ffffff'),\n",
    ")\n",
    "fig.append_trace(data_new, 1, 2)\n",
    "\n",
    "layout = go.Layout(\n",
    "    barmode='stack',\n",
    "    hovermode='closest',\n",
    "    title='Match Outcomes and Home Win/ Away Win Ratio by League, 2008-2018',\n",
    "    xaxis=dict(\n",
    "        tickformat=\".0%\",\n",
    "        showgrid=False,\n",
    "        zeroline=False,\n",
    "        domain=[0, 0.6]\n",
    "    ),\n",
    "    yaxis2=dict(\n",
    "        visible=False\n",
    "    ),\n",
    "    xaxis2=dict(\n",
    "        showgrid=False,\n",
    "        zeroline=False,\n",
    "        domain=[0.6, 1]\n",
    "    ),\n",
    "    margin=dict(l=320),\n",
    "    height=1000,\n",
    "    font=dict(size=17)\n",
    ")\n",
    "\n",
    "fig['layout'].update(layout)\n",
    "fig['layout']['xaxis1'].update(title='Match Outcomes (% of total)')\n",
    "fig['layout']['xaxis2'].update(title='Home Win/ Away Win Ratio')\n",
    "#fig = go.Figure(data=data, layout=layout)\n",
    "#py.iplot(fig, filename='Home Team Advantage by Season - Premier League')\n",
    "\n",
    "plot(fig)"
   ]
  },
  {
   "cell_type": "markdown",
   "metadata": {},
   "source": [
    "### By Seasons"
   ]
  },
  {
   "cell_type": "code",
   "execution_count": 1602,
   "metadata": {
    "collapsed": true
   },
   "outputs": [],
   "source": [
    "ten_leagues = [82, 2, 564, 301, 779, 8, 462, 384, 648]\n",
    "major_league_fixtures['year'] = pd.to_datetime(major_league_fixtures['starting_datetime']).dt.year"
   ]
  },
  {
   "cell_type": "code",
   "execution_count": 1603,
   "metadata": {
    "collapsed": true
   },
   "outputs": [],
   "source": [
    "major_league_seasons = major_league_fixtures[(major_league_fixtures['home_away'] == 'home') & (major_league_fixtures['league_id'].isin(ten_leagues))\n",
    "                                             & (major_league_fixtures['league_id'].isin(fixture_counts['league_id']))] \\\n",
    "                        .groupby(['league_id', 'league_name', 'league_country','year', 'outcome'])['fixture_id'] \\\n",
    "                        .count()"
   ]
  },
  {
   "cell_type": "code",
   "execution_count": 1604,
   "metadata": {
    "collapsed": true
   },
   "outputs": [],
   "source": [
    "ml_seasons_grped = pd.DataFrame(major_league_seasons) \\\n",
    "                        .groupby(['league_name', 'league_country', 'year'])['fixture_id'] \\\n",
    "                        .apply(lambda x: x / x.sum()) \\\n",
    "                        .unstack('outcome')"
   ]
  },
  {
   "cell_type": "code",
   "execution_count": 1605,
   "metadata": {
    "collapsed": true
   },
   "outputs": [],
   "source": [
    "ml_seasons_grped['win_loss_ratio'] = ml_seasons_grped['won'] / ml_seasons_grped['lost']"
   ]
  },
  {
   "cell_type": "code",
   "execution_count": 1606,
   "metadata": {},
   "outputs": [
    {
     "data": {
      "text/plain": [
       "league_id\n",
       "648.0    2.221724\n",
       "779.0    2.192668\n",
       "564.0    1.725097\n",
       "2.0      1.703442\n",
       "384.0    1.688920\n",
       "301.0    1.665542\n",
       "8.0      1.622611\n",
       "462.0    1.590135\n",
       "82.0     1.543055\n",
       "Name: win_loss_ratio, dtype: float64"
      ]
     },
     "execution_count": 1606,
     "metadata": {},
     "output_type": "execute_result"
    }
   ],
   "source": [
    "pd.Series(ml_seasons_grped.groupby('league_id')['win_loss_ratio'].mean()).sort_values(ascending=False)"
   ]
  },
  {
   "cell_type": "code",
   "execution_count": 1607,
   "metadata": {
    "collapsed": true
   },
   "outputs": [],
   "source": [
    "ml_seasons_grped = ml_seasons_grped.reset_index()"
   ]
  },
  {
   "cell_type": "code",
   "execution_count": 1608,
   "metadata": {},
   "outputs": [
    {
     "data": {
      "image/png": "[encoded data removed]",
      "text/plain": [
       "<matplotlib.figure.Figure at 0x133cfd96cf8>"
      ]
     },
     "metadata": {},
     "output_type": "display_data"
    }
   ],
   "source": [
    "leagues = ml_seasons_grped['league_id'].unique()\n",
    "\n",
    "colors = sns.cubehelix_palette(n_colors=len(leagues), reverse=True)\n",
    "sns.palplot(colors)\n",
    "\n",
    "team_colors = []\n",
    "\n",
    "for color in colors:\n",
    "    values = []\n",
    "    for value in color:\n",
    "        value *= 255\n",
    "        values.append(value)\n",
    "    values_text = ', '.join(str(x) for x in values)\n",
    "    values_rgb_str = 'rgb('+ values_text + ')'\n",
    "    team_colors.append(values_rgb_str)"
   ]
  },
  {
   "cell_type": "code",
   "execution_count": 1612,
   "metadata": {
    "collapsed": true
   },
   "outputs": [],
   "source": [
    "team_colors = ['rgb(237.47365169479698, 209.14900580009402, 203.2727648539216)',\n",
    " 'rgb(237.47365169479698, 209.14900580009402, 203.2727648539216)',\n",
    " 'rgb(237.47365169479698, 209.14900580009402, 203.2727648539216)',\n",
    " 'rgb(237.47365169479698, 209.14900580009402, 203.2727648539216)',\n",
    " 'rgb(44.64707404828123, 30.192059432637937, 61.75077230148308)',\n",
    " 'rgb(237.47365169479698, 209.14900580009402, 203.2727648539216)',\n",
    " 'rgb(237.47365169479698, 209.14900580009402, 203.2727648539216)',\n",
    " 'rgb(237.47365169479698, 209.14900580009402, 203.2727648539216)',\n",
    " 'rgb(237.47365169479698, 209.14900580009402, 203.2727648539216)']"
   ]
  },
  {
   "cell_type": "code",
   "execution_count": 1613,
   "metadata": {},
   "outputs": [
    {
     "data": {
      "text/plain": [
       "'file://C:\\\\Torneo\\\\soccer-elo-rating\\\\temp-plot.html'"
      ]
     },
     "execution_count": 1613,
     "metadata": {},
     "output_type": "execute_result"
    }
   ],
   "source": [
    "data = []\n",
    "\n",
    "for i, league in enumerate(leagues):\n",
    "    league_data = ml_seasons_grped[ml_seasons_grped['league_id'] == league]\n",
    "    league_country = league_data[league_data['league_id'] == league]['league_country'].unique()[0]\n",
    "    league_name = league_data[league_data['league_id'] == league]['league_name'].unique()[0]\n",
    "    name =  league_name + ' (' + league_country + ')'\n",
    "    league_trace = go.Scatter(\n",
    "        y = league_data['win_loss_ratio'],\n",
    "        x = league_data['year'],\n",
    "        line = {'color': team_colors[i]},\n",
    "        name = name,\n",
    "        opacity = 0.8)\n",
    "    data.append(league_trace)\n",
    "    \n",
    "layout = dict(\n",
    "    title='Home Win vs. Away Win Ratio, 2008-2018',\n",
    "    hovermode = 'closest',\n",
    "    yaxis = dict(\n",
    "        showgrid=False\n",
    "    ),\n",
    "    font=dict(size=17)\n",
    ")\n",
    "\n",
    "fig = go.Figure(data=data, layout=layout)\n",
    "#py.iplot(fig, filename='Home Team Advantage - Premier League')\n",
    "\n",
    "plot(fig)"
   ]
  },
  {
   "cell_type": "markdown",
   "metadata": {},
   "source": [
    "### English Premier League"
   ]
  },
  {
   "cell_type": "code",
   "execution_count": 1599,
   "metadata": {
    "collapsed": true
   },
   "outputs": [],
   "source": [
    "pl_fixtures = all_fixtures[all_fixtures['league_id'] == 8]"
   ]
  },
  {
   "cell_type": "code",
   "execution_count": 735,
   "metadata": {
    "collapsed": true
   },
   "outputs": [],
   "source": [
    "pl_fixtures_grped = pl_fixtures.groupby(['home_away', 'outcome'])['fixture_id'].count()\n",
    "pl_fixtures_grped_pct = pl_fixtures_grped.groupby(level=[0]).apply(lambda x: x / x.sum()).unstack('outcome')"
   ]
  },
  {
   "cell_type": "code",
   "execution_count": 736,
   "metadata": {
    "collapsed": true
   },
   "outputs": [],
   "source": [
    "pl_fixtures_grped_pct = round(pl_fixtures_grped_pct,4)"
   ]
  },
  {
   "cell_type": "code",
   "execution_count": 741,
   "metadata": {
    "collapsed": true
   },
   "outputs": [],
   "source": [
    "pl_fixtures_grped_pct = pl_fixtures_grped_pct[pl_fixtures_grped_pct.columns[[2,1,0]]]"
   ]
  },
  {
   "cell_type": "code",
   "execution_count": 1311,
   "metadata": {},
   "outputs": [
    {
     "data": {
      "application/vnd.plotly.v1+json": {
       "data": [
        {
         "marker": {
          "color": [
           "rgb(241,91,36)",
           "rgb(54,62,79)",
           "rgb(82,194,184)"
          ]
         },
         "text": [
          "45.92%",
          "25.51%",
          "28.58%"
         ],
         "textfont": {
          "color": "#ffffff"
         },
         "textposition": "auto",
         "type": "bar",
         "uid": "3f564700-b5f4-11e8-8876-606dc7c632f8",
         "x": [
          "won",
          "tied",
          "lost"
         ],
         "y": [
          0.4592,
          0.2551,
          0.2858
         ]
        }
       ],
       "layout": {
        "barmode": "stack",
        "hovermode": "closest",
        "title": "Breakdown of Premier League Match Outcomes for Home Teams, 2008-2018",
        "yaxis": {
         "showgrid": false,
         "showticklabels": false,
         "tickformat": ".2%",
         "zeroline": false
        }
       }
      },
      "text/html": [
       "<div id=\"871ebc1a-7af1-42ac-829f-71c46aeee4bd\" style=\"height: 525px; width: 100%;\" class=\"plotly-graph-div\"></div><script type=\"text/javascript\">require([\"plotly\"], function(Plotly) { window.PLOTLYENV=window.PLOTLYENV || {};window.PLOTLYENV.BASE_URL=\"https://plot.ly\";Plotly.newPlot(\"871ebc1a-7af1-42ac-829f-71c46aeee4bd\", [{\"marker\": {\"color\": [\"rgb(241,91,36)\", \"rgb(54,62,79)\", \"rgb(82,194,184)\"]}, \"text\": [\"45.92%\", \"25.51%\", \"28.58%\"], \"textfont\": {\"color\": \"#ffffff\"}, \"textposition\": \"auto\", \"x\": [\"won\", \"tied\", \"lost\"], \"y\": [0.4592, 0.2551, 0.2858], \"type\": \"bar\", \"uid\": \"3f5fd0da-b5f4-11e8-b0f8-606dc7c632f8\"}], {\"barmode\": \"stack\", \"hovermode\": \"closest\", \"title\": \"Breakdown of Premier League Match Outcomes for Home Teams, 2008-2018\", \"yaxis\": {\"showgrid\": false, \"showticklabels\": false, \"tickformat\": \".2%\", \"zeroline\": false}}, {\"showLink\": true, \"linkText\": \"Export to plot.ly\"})});</script>"
      ],
      "text/vnd.plotly.v1+html": [
       "<div id=\"871ebc1a-7af1-42ac-829f-71c46aeee4bd\" style=\"height: 525px; width: 100%;\" class=\"plotly-graph-div\"></div><script type=\"text/javascript\">require([\"plotly\"], function(Plotly) { window.PLOTLYENV=window.PLOTLYENV || {};window.PLOTLYENV.BASE_URL=\"https://plot.ly\";Plotly.newPlot(\"871ebc1a-7af1-42ac-829f-71c46aeee4bd\", [{\"marker\": {\"color\": [\"rgb(241,91,36)\", \"rgb(54,62,79)\", \"rgb(82,194,184)\"]}, \"text\": [\"45.92%\", \"25.51%\", \"28.58%\"], \"textfont\": {\"color\": \"#ffffff\"}, \"textposition\": \"auto\", \"x\": [\"won\", \"tied\", \"lost\"], \"y\": [0.4592, 0.2551, 0.2858], \"type\": \"bar\", \"uid\": \"3f5fd0da-b5f4-11e8-b0f8-606dc7c632f8\"}], {\"barmode\": \"stack\", \"hovermode\": \"closest\", \"title\": \"Breakdown of Premier League Match Outcomes for Home Teams, 2008-2018\", \"yaxis\": {\"showgrid\": false, \"showticklabels\": false, \"tickformat\": \".2%\", \"zeroline\": false}}, {\"showLink\": true, \"linkText\": \"Export to plot.ly\"})});</script>"
      ]
     },
     "metadata": {},
     "output_type": "display_data"
    },
    {
     "data": {
      "text/html": [
       "<script>function downloadimage(format, height, width, filename) {var p = document.getElementById('871ebc1a-7af1-42ac-829f-71c46aeee4bd');Plotly.downloadImage(p, {format: format, height: height, width: width, filename: filename});};if(document.readyState == 'complete') {{downloadimage('svg', 600, 800, 'plot_image');}}</script>"
      ],
      "text/plain": [
       "<IPython.core.display.HTML object>"
      ]
     },
     "metadata": {},
     "output_type": "display_data"
    }
   ],
   "source": [
    "data = []\n",
    "colors = [orangepop_rgb, galaxy_rgb, glacier_rgb]\n",
    "\n",
    "data_new = go.Bar(\n",
    "    x=pl_fixtures_grped_pct.columns,\n",
    "    y=pl_fixtures_grped_pct.loc['home'].values,\n",
    "    text=pl_fixtures_grped_pct.loc['home'].apply(lambda x: '{:.2%}'.format(x)).values,\n",
    "    textposition = 'auto',\n",
    "    textfont=dict(color='#ffffff'),\n",
    "    marker=dict(\n",
    "        color=colors)\n",
    ")\n",
    "data.append(data_new)\n",
    "\n",
    "layout = go.Layout(\n",
    "    barmode='stack',\n",
    "    title='Breakdown of Premier League Match Outcomes for Home Teams, 2008-2018',\n",
    "    hovermode='closest',\n",
    "    yaxis=dict(\n",
    "        tickformat=\".2%\",\n",
    "        showgrid=False,\n",
    "        zeroline=False,\n",
    "        showticklabels=False\n",
    "    )\n",
    ")\n",
    "\n",
    "fig = go.Figure(data=data, layout=layout)\n",
    "#py.iplot(fig, filename='Home Team Advantage - Premier League')\n",
    "\n",
    "offline.iplot({'data': data, \n",
    "               'layout': layout},\n",
    "             image='svg')"
   ]
  },
  {
   "cell_type": "markdown",
   "metadata": {},
   "source": [
    "### By Season"
   ]
  },
  {
   "cell_type": "code",
   "execution_count": 649,
   "metadata": {
    "collapsed": true
   },
   "outputs": [],
   "source": [
    "pl_fixtures_seasons = pl_fixtures.groupby(['season_name','home_away', 'outcome'])['fixture_id'].count()\n",
    "pl_fixtures_seasons_pct = pl_fixtures_seasons.groupby(level=[0,1]).apply(lambda x: x / x.sum()).unstack('outcome')"
   ]
  },
  {
   "cell_type": "code",
   "execution_count": 650,
   "metadata": {
    "collapsed": true
   },
   "outputs": [],
   "source": [
    "seasons_away = pl_fixtures_seasons_pct.xs('away', level='home_away')\n",
    "seasons_home = pl_fixtures_seasons_pct.xs('home', level='home_away')"
   ]
  },
  {
   "cell_type": "code",
   "execution_count": 708,
   "metadata": {
    "collapsed": true
   },
   "outputs": [],
   "source": [
    "seasons_home = seasons_home[seasons_home.columns[[2,1,0]]]"
   ]
  },
  {
   "cell_type": "code",
   "execution_count": 1379,
   "metadata": {},
   "outputs": [
    {
     "data": {
      "text/html": [
       "<iframe id=\"igraph\" scrolling=\"no\" style=\"border:none;\" seamless=\"seamless\" src=\"https://plot.ly/~cathyhax/65.embed\" height=\"525px\" width=\"100%\"></iframe>"
      ],
      "text/plain": [
       "<plotly.tools.PlotlyDisplay object>"
      ]
     },
     "execution_count": 1379,
     "metadata": {},
     "output_type": "execute_result"
    }
   ],
   "source": [
    "from plotly import tools\n",
    "\n",
    "\"\"\"\n",
    "fig = tools.make_subplots(rows=1, cols=2, specs=[[{}, {}]], shared_xaxes=False,\n",
    "                          shared_yaxes=False, vertical_spacing=0.001)\n",
    "                          \n",
    "for i, column in enumerate(seasons_away.columns):\n",
    "    data_new = go.Bar(\n",
    "        y=seasons_away.index,\n",
    "        x=seasons_away[column].values,\n",
    "        name=column,\n",
    "        orientation='h',\n",
    "        marker=dict(color=colors[i])\n",
    "    )\n",
    "    fig.append_trace(data_new, 1, 2)\n",
    "    \n",
    "    xaxis2=dict(\n",
    "        tickformat=\".2%\",\n",
    "        showgrid=False,\n",
    "        zeroline=False\n",
    "    )\n",
    "    \n",
    "fig['layout'].update(layout)\n",
    "\"\"\"\n",
    "colors = [orangepop_rgb, galaxy_rgb, glacier_rgb]\n",
    "\n",
    "data = []\n",
    "\n",
    "for i, column in enumerate(seasons_home.columns):\n",
    "    data_new = go.Bar(\n",
    "        x=seasons_home.index,\n",
    "        y=seasons_home[column].values,\n",
    "        name=column,\n",
    "        marker=dict(color=colors[i])\n",
    "    )\n",
    "    data.append(data_new)\n",
    "\n",
    "layout = go.Layout(\n",
    "    barmode='stack',\n",
    "    title='Breakdown of Match Outcomes for Premier League Home Teams by Season',\n",
    "    hovermode='closest',\n",
    "    yaxis=dict(\n",
    "        tickformat=\".2%\",\n",
    "        showgrid=False,\n",
    "        zeroline=False\n",
    "    )\n",
    ")\n",
    "\n",
    "fig = go.Figure(data=data, layout=layout)\n",
    "py.iplot(fig, filename='Home Team Advantage by Season - Premier League')"
   ]
  },
  {
   "cell_type": "markdown",
   "metadata": {},
   "source": [
    "### By Teams"
   ]
  },
  {
   "cell_type": "code",
   "execution_count": 1621,
   "metadata": {
    "collapsed": true
   },
   "outputs": [],
   "source": [
    "team_counts = pl_fixtures.groupby('team_id')['fixture_id'].count().reset_index(name='count').set_index('team_id')\n",
    "team_counts = team_counts[team_counts['count'] > 200]"
   ]
  },
  {
   "cell_type": "code",
   "execution_count": 1622,
   "metadata": {
    "collapsed": true
   },
   "outputs": [],
   "source": [
    "pl_fixtures_grped_teams = pl_fixtures[pl_fixtures['team_id'].isin(team_counts.index)] \\\n",
    "                            .groupby(['team_id', 'team_name', 'home_away', 'outcome'])['fixture_id'] \\\n",
    "                            .count()\n",
    "pl_fixtures_grped_teams_pct = pl_fixtures_grped_teams.groupby(level=[0, 1, 2]) \\\n",
    "                                .apply(lambda x: x / x.sum()) \\\n",
    "                                .unstack(['home_away']) \\\n",
    "                                .fillna(0)"
   ]
  },
  {
   "cell_type": "code",
   "execution_count": 1623,
   "metadata": {
    "collapsed": true
   },
   "outputs": [],
   "source": [
    "pl_fixtures_grped_teams_pct['home_away_index'] = pd.DataFrame(pl_fixtures_grped_teams_pct.groupby(level=[0]).apply(lambda x: x['home']/x['away'])).values\n",
    "pl_fixtures_grped_teams_pct = pl_fixtures_grped_teams_pct.unstack(['outcome']).xs('home_away_index', level='home_away', axis=1).reset_index()"
   ]
  },
  {
   "cell_type": "code",
   "execution_count": 1624,
   "metadata": {
    "collapsed": true
   },
   "outputs": [],
   "source": [
    "pl_fixtures_grped_teams_pct.set_index('team_id', inplace=True)"
   ]
  },
  {
   "cell_type": "code",
   "execution_count": 1625,
   "metadata": {
    "collapsed": true
   },
   "outputs": [],
   "source": [
    "win = pl_fixtures_grped_teams_pct.sort_values('won')\n",
    "tie = pl_fixtures_grped_teams_pct.sort_values('tied')"
   ]
  },
  {
   "cell_type": "code",
   "execution_count": 1631,
   "metadata": {},
   "outputs": [
    {
     "name": "stderr",
     "output_type": "stream",
     "text": [
      "IOPub data rate exceeded.\n",
      "The notebook server will temporarily stop sending output\n",
      "to the client in order to avoid crashing it.\n",
      "To change this limit, set the config variable\n",
      "`--NotebookApp.iopub_data_rate_limit`.\n"
     ]
    },
    {
     "data": {
      "text/plain": [
       "'file://C:\\\\Torneo\\\\soccer-elo-rating\\\\temp-plot.html'"
      ]
     },
     "execution_count": 1631,
     "metadata": {},
     "output_type": "execute_result"
    }
   ],
   "source": [
    "data_win = go.Bar(\n",
    "    name='Home team effect on wins',\n",
    "    x=round(win['won'],2).values,\n",
    "    y=win['team_name'].values,\n",
    "    orientation='h',\n",
    "    marker=dict(color=orangepop),\n",
    "    text=round(win['won'],2).values,\n",
    "    hoverinfo='y+text'\n",
    ")\n",
    "\n",
    "data_win_ref = go.Scatter(\n",
    "    y=win['team_name'].values,\n",
    "    x=[1]*len(win.index),\n",
    "    showlegend=False,\n",
    "    line=dict(color=glacier, dash='dash'),\n",
    "    hoverinfo='none'\n",
    ")\n",
    "\n",
    "data_tie = go.Bar(\n",
    "    name='Home team effect on ties',\n",
    "    x=-round(win['tied'],2).values,\n",
    "    y=win['team_name'].values,\n",
    "    orientation='h',\n",
    "    marker=dict(color=galaxy),\n",
    "    text=round(win['tied'],2).values,\n",
    "    hoverinfo=\"y+text\"\n",
    ")\n",
    "\n",
    "data_tie_ref = go.Scatter(\n",
    "    y=win['team_name'].values,\n",
    "    x=[-1]*len(win.index),\n",
    "    showlegend=False,\n",
    "    line=dict(color=glacier, dash='dash'),\n",
    "    hoverinfo='none'\n",
    ")\n",
    "\n",
    "data = [data_win, data_win_ref, data_tie, data_tie_ref]\n",
    "\n",
    "layout = go.Layout(\n",
    "    barmode='relative',\n",
    "    title='Home Field Effect on Wins and Ties - by Premier League Team, 2008 - 2018',\n",
    "    hovermode='closest',\n",
    "    margin=dict(l=220),\n",
    "    xaxis=dict(\n",
    "        showgrid=False,\n",
    "        zeroline=False,\n",
    "        tickmode='array',\n",
    "        tickvals=[-3, -2, -1, 0, 1, 2, 3, 4],\n",
    "        ticktext=[3, 2, 1, 0, 1, 2, 3, 4]\n",
    "    ),\n",
    "    height=800,\n",
    "    font=dict(size=17)\n",
    ")\n",
    "\n",
    "fig = go.Figure(data=data, layout=layout)\n",
    "plot(fig)"
   ]
  },
  {
   "cell_type": "markdown",
   "metadata": {},
   "source": [
    "## Scores"
   ]
  },
  {
   "cell_type": "markdown",
   "metadata": {},
   "source": [
    "### Scores for Home vs. Away Games"
   ]
  },
  {
   "cell_type": "code",
   "execution_count": 1136,
   "metadata": {
    "collapsed": true
   },
   "outputs": [],
   "source": [
    "sns.set_palette(\"cubehelix\")"
   ]
  },
  {
   "cell_type": "code",
   "execution_count": 1137,
   "metadata": {
    "collapsed": true
   },
   "outputs": [],
   "source": [
    "team_name = 'Chelsea'"
   ]
  },
  {
   "cell_type": "code",
   "execution_count": 1240,
   "metadata": {
    "collapsed": true
   },
   "outputs": [],
   "source": [
    "#sns.countplot(pl_fixtures[(pl_fixtures['team_name'] == team_name) & (pl_fixtures['home_away'] == 'home')]['team_score_for'])\n",
    "data_grped_score_for = pl_fixtures.groupby(['home_away','team_score_for'])['team_score_for'].count().reset_index(name='count')\n",
    "data_grped_score_for['pct_total'] = data_grped_score_for.groupby('home_away')['count'].apply(lambda x: x / x.sum())"
   ]
  },
  {
   "cell_type": "code",
   "execution_count": 1634,
   "metadata": {},
   "outputs": [
    {
     "data": {
      "text/plain": [
       "'file://C:\\\\Torneo\\\\soccer-elo-rating\\\\temp-plot.html'"
      ]
     },
     "execution_count": 1634,
     "metadata": {},
     "output_type": "execute_result"
    }
   ],
   "source": [
    "data = []\n",
    "\n",
    "data_new = go.Bar(\n",
    "    name='home',\n",
    "    x=data_grped_score_for[data_grped_score_for['home_away'] == 'home']['team_score_for'].values,\n",
    "    y=data_grped_score_for[data_grped_score_for['home_away'] == 'home']['pct_total'].values,\n",
    "    marker=dict(color=orangepop)\n",
    ")\n",
    "data.append(data_new)\n",
    "\n",
    "data_new = go.Bar(\n",
    "    name='away',\n",
    "    x=data_grped_score_for[data_grped_score_for['home_away'] == 'away']['team_score_for'].values,\n",
    "    y=data_grped_score_for[data_grped_score_for['home_away'] == 'away']['pct_total'].values,\n",
    "    marker=dict(color=glacier)\n",
    ")\n",
    "data.append(data_new)\n",
    "\n",
    "layout = go.Layout(\n",
    "    barmode='group',\n",
    "    title='English Premier League Goals, Home vs. Away',\n",
    "    hovermode='closest',\n",
    "    yaxis=dict(\n",
    "        tickformat=\".2%\",\n",
    "        showgrid=False,\n",
    "        zeroline=False\n",
    "    ),\n",
    "    font=dict(size=17)\n",
    ")\n",
    "\n",
    "fig = go.Figure(data=data, layout=layout)\n",
    "#py.iplot(fig, filename='Home Team Advantage - Premier League')\n",
    "\n",
    "plot(fig)"
   ]
  },
  {
   "cell_type": "code",
   "execution_count": 1279,
   "metadata": {
    "collapsed": true
   },
   "outputs": [],
   "source": [
    "pl_fixtures_home = pl_fixtures[pl_fixtures['home_away'] == 'home']\n",
    "attk_def_home = pd.crosstab(pl_fixtures_home['team_score_against'], pl_fixtures_home['team_score_for']).sort_index(ascending=False)"
   ]
  },
  {
   "cell_type": "markdown",
   "metadata": {},
   "source": [
    "### Score Difference"
   ]
  },
  {
   "cell_type": "code",
   "execution_count": 1180,
   "metadata": {
    "collapsed": true
   },
   "outputs": [],
   "source": [
    "#turn into percentages?\n",
    "sns.set(style=\"white\")\n",
    "sns.set_palette(\"viridis\")"
   ]
  },
  {
   "cell_type": "code",
   "execution_count": 1297,
   "metadata": {
    "collapsed": true
   },
   "outputs": [],
   "source": [
    "data_grped = pl_fixtures.groupby(['home_away','team_score_diff'])['team_score_diff'].count().reset_index(name='count')\n",
    "data_grped['pct_total'] = data_grped.groupby('home_away')['count'].apply(lambda x: x / x.sum())"
   ]
  },
  {
   "cell_type": "code",
   "execution_count": 1636,
   "metadata": {},
   "outputs": [
    {
     "data": {
      "text/plain": [
       "'file://C:\\\\Torneo\\\\soccer-elo-rating\\\\temp-plot.html'"
      ]
     },
     "execution_count": 1636,
     "metadata": {},
     "output_type": "execute_result"
    }
   ],
   "source": [
    "data = []\n",
    "colors = [orangepop_rgb, galaxy_rgb, glacier_rgb]\n",
    "\n",
    "data_new = go.Bar(\n",
    "    name='home',\n",
    "    x=data_grped[data_grped['home_away'] == 'home']['team_score_diff'].values,\n",
    "    y=data_grped[data_grped['home_away'] == 'home']['pct_total'].values,\n",
    "    marker=dict(color=orangepop)\n",
    ")\n",
    "data.append(data_new)\n",
    "\n",
    "data_new = go.Bar(\n",
    "    name='away',\n",
    "    x=data_grped[data_grped['home_away'] == 'away']['team_score_diff'].values,\n",
    "    y=data_grped[data_grped['home_away'] == 'away']['pct_total'].values,\n",
    "    marker=dict(color=glacier)\n",
    ")\n",
    "data.append(data_new)\n",
    "\n",
    "layout = go.Layout(\n",
    "    barmode='group',\n",
    "    title='English Premier League Goal Difference for Home and Away Matches',\n",
    "    hovermode='closest',\n",
    "    yaxis=dict(\n",
    "        tickformat=\".2%\",\n",
    "        showgrid=False,\n",
    "        zeroline=False\n",
    "    ),\n",
    "    font=dict(size=17)\n",
    ")\n",
    "\n",
    "fig = go.Figure(data=data, layout=layout)\n",
    "#py.iplot(fig, filename='Home Team Advantage - Premier League')\n",
    "\n",
    "plot(fig)"
   ]
  },
  {
   "cell_type": "markdown",
   "metadata": {},
   "source": [
    "## Ratings"
   ]
  },
  {
   "cell_type": "code",
   "execution_count": 17,
   "metadata": {
    "collapsed": true
   },
   "outputs": [],
   "source": [
    "rating = Rate()"
   ]
  },
  {
   "cell_type": "code",
   "execution_count": 15,
   "metadata": {
    "collapsed": true
   },
   "outputs": [],
   "source": [
    "fixtures_short = fixtures[fixtures['league_id'].isin(major_leagues)]"
   ]
  },
  {
   "cell_type": "code",
   "execution_count": 61,
   "metadata": {
    "scrolled": false
   },
   "outputs": [
    {
     "name": "stdout",
     "output_type": "stream",
     "text": [
      "Prepping data...\n",
      "Starting calculations...\n",
      "Calculations completed in 347.051532 seconds=================] 100.0% ... Hooray!\n"
     ]
    }
   ],
   "source": [
    "rating.calculate_elo(fixtures_short, h=100, K=20, Sd=True) "
   ]
  },
  {
   "cell_type": "code",
   "execution_count": 64,
   "metadata": {},
   "outputs": [
    {
     "data": {
      "text/plain": [
       "(0.45792510006771014, 0.46331538950162621)"
      ]
     },
     "execution_count": 64,
     "metadata": {},
     "output_type": "execute_result"
    }
   ],
   "source": [
    "rating.get_log_loss()"
   ]
  },
  {
   "cell_type": "code",
   "execution_count": 19,
   "metadata": {
    "collapsed": true
   },
   "outputs": [],
   "source": [
    "fixtures_short = fixtures_short.join(rating.ratings_fixtures)"
   ]
  },
  {
   "cell_type": "code",
   "execution_count": 54,
   "metadata": {
    "collapsed": true
   },
   "outputs": [],
   "source": [
    "team_counts = major_league_fixtures.groupby('team_id')['fixture_id'].count().reset_index(name='count').set_index('team_id')\n",
    "team_counts = team_counts[team_counts['count'] > 100]"
   ]
  },
  {
   "cell_type": "code",
   "execution_count": 77,
   "metadata": {
    "collapsed": true
   },
   "outputs": [],
   "source": [
    "ml_fixtures_grped_teams = major_league_fixtures\\\n",
    "                            .groupby(['team_id', 'team_name', 'team_country', 'home_away', 'outcome'])['fixture_id'] \\\n",
    "                            .count()\n",
    "ml_fixtures_grped_teams_pct = ml_fixtures_grped_teams.groupby(level=[0, 1, 2, 3]) \\\n",
    "                                .apply(lambda x: x / x.sum()) \\\n",
    "                                .unstack(['home_away']) \\\n",
    "                                .fillna(0)\n",
    "            \n",
    "ml_fixtures_grped_teams_pct['home_away_index'] = pd.DataFrame(ml_fixtures_grped_teams_pct.groupby(level=[0]).apply(lambda x: x['home']/x['away'])).values\n",
    "ml_fixtures_grped_teams_pct = ml_fixtures_grped_teams_pct.unstack(['outcome']).xs('home_away_index', level='home_away', axis=1).reset_index()\n",
    "\n",
    "ml_fixtures_grped_teams_pct.set_index('team_id', inplace=True)"
   ]
  },
  {
   "cell_type": "code",
   "execution_count": 81,
   "metadata": {
    "collapsed": true
   },
   "outputs": [],
   "source": [
    "ml_fixtures_grped_teams_pct = ml_fixtures_grped_teams_pct.join(team_counts, how='inner')"
   ]
  },
  {
   "cell_type": "code",
   "execution_count": 82,
   "metadata": {
    "collapsed": true
   },
   "outputs": [],
   "source": [
    "team_ratings = rating.ratings_teams\n",
    "ratings_ratio = ml_fixtures_grped_teams_pct.join(team_ratings.drop('team_name', axis=1))"
   ]
  },
  {
   "cell_type": "code",
   "execution_count": 83,
   "metadata": {},
   "outputs": [
    {
     "data": {
      "text/plain": [
       "'file://C:\\\\Torneo\\\\soccer-elo-rating\\\\temp-plot.html'"
      ]
     },
     "execution_count": 83,
     "metadata": {},
     "output_type": "execute_result"
    }
   ],
   "source": [
    "trace = go.Scatter(\n",
    "    x = ratings_ratio['rating'],\n",
    "    y = ratings_ratio['won'],\n",
    "    mode = 'markers',\n",
    "    text = ratings_ratio['team_name'] + ' (' + ratings_ratio['team_country'] + '),' + ratings_ratio['count'].astype(str) + ' matches' \n",
    ")\n",
    "\n",
    "layout = go.Layout(\n",
    "    title='Team Elo Rating vs. Home Win Ratio, 2008-2018',\n",
    "    hovermode='closest',\n",
    "    font=dict(size=17)\n",
    ")\n",
    "\n",
    "fig = go.Figure(data=[trace], layout=layout)\n",
    "plot(fig)"
   ]
  }
 ],
 "metadata": {
  "kernelspec": {
   "display_name": "Python 3",
   "language": "python",
   "name": "python3"
  },
  "language_info": {
   "codemirror_mode": {
    "name": "ipython",
    "version": 3
   },
   "file_extension": ".py",
   "mimetype": "text/x-python",
   "name": "python",
   "nbconvert_exporter": "python",
   "pygments_lexer": "ipython3",
   "version": "3.6.3"
  }
 },
 "nbformat": 4,
 "nbformat_minor": 2
}
