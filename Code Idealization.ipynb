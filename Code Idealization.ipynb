{
 "cells": [
  {
   "cell_type": "markdown",
   "metadata": {},
   "source": [
    "# Code Idealization - Lucas\n",
    "\n",
    "File to structure elo functions to be able to run it in production, as well as to optimally train it for sports and different scenarios. Based on the code by [cathyhax](https://github.com/cathyhax).\n",
    "\n",
    "Idealization:\n",
    "\n",
    "## Idealization\n",
    "\n",
    "### Functions\n",
    "\n",
    "```python\n",
    "# calculate probabilities for two teams facing each other.\n",
    "probability(hometeam_elo, visitorteam_elo)\n",
    "```"
   ]
  },
  {
   "cell_type": "code",
   "execution_count": 1,
   "metadata": {
    "ExecuteTime": {
     "end_time": "2019-12-11T00:29:27.869393Z",
     "start_time": "2019-12-11T00:29:27.302005Z"
    }
   },
   "outputs": [],
   "source": [
    "from ratings.elo import Elo"
   ]
  },
  {
   "cell_type": "code",
   "execution_count": 4,
   "metadata": {
    "ExecuteTime": {
     "end_time": "2019-12-11T00:12:12.360239Z",
     "start_time": "2019-12-11T00:12:12.346160Z"
    }
   },
   "outputs": [
    {
     "data": {
      "text/plain": [
       "(0.726830072276731, 0.273169927723269, 1402.9386683454975, 1297.0613316545025)"
      ]
     },
     "execution_count": 4,
     "metadata": {},
     "output_type": "execute_result"
    }
   ],
   "source": [
    "elo = Elo(h=70)\n",
    "\n",
    "elo.elo_rating(1400,1300, d=1.0, score_diff=0)"
   ]
  },
  {
   "cell_type": "code",
   "execution_count": 5,
   "metadata": {
    "ExecuteTime": {
     "end_time": "2019-12-11T00:12:14.290080Z",
     "start_time": "2019-12-11T00:12:14.276907Z"
    }
   },
   "outputs": [
    {
     "data": {
      "text/plain": [
       "(0.726830072276731, 0.273169927723269, 1402.9386683454975, 1297.0613316545025)"
      ]
     },
     "execution_count": 5,
     "metadata": {},
     "output_type": "execute_result"
    }
   ],
   "source": [
    "elo.elo_rating(1400,1300, score_diff=0, d=1.)"
   ]
  },
  {
   "cell_type": "code",
   "execution_count": null,
   "metadata": {},
   "outputs": [],
   "source": [
    "# elo.elo_rating(1400,1300, d=1.0, K=20, h=70, score_diff=0, Sd_method='Logistic', m=1)\n",
    "# (0.726830072276731, 0.273169927723269, 1402.9386683454975, 1297.0613316545025)"
   ]
  },
  {
   "cell_type": "code",
   "execution_count": 1,
   "metadata": {
    "ExecuteTime": {
     "end_time": "2019-12-11T01:00:54.849030Z",
     "start_time": "2019-12-11T01:00:54.259325Z"
    }
   },
   "outputs": [],
   "source": [
    "from ratings.glicko import Glicko"
   ]
  },
  {
   "cell_type": "code",
   "execution_count": 2,
   "metadata": {
    "ExecuteTime": {
     "end_time": "2019-12-11T01:00:54.853174Z",
     "start_time": "2019-12-11T01:00:54.850710Z"
    }
   },
   "outputs": [],
   "source": [
    "glicko = Glicko(start_rating=1500, c=42.4264068712, q=None, sigma=350, sigma_min=30, h=0, width=400)"
   ]
  },
  {
   "cell_type": "code",
   "execution_count": 5,
   "metadata": {
    "ExecuteTime": {
     "end_time": "2019-12-11T01:01:15.102585Z",
     "start_time": "2019-12-11T01:01:15.096317Z"
    }
   },
   "outputs": [
    {
     "data": {
      "text/plain": [
       "(0.17226110357722027,\n",
       " 0.8277388964227796,\n",
       " 1524.4657173141252,\n",
       " 1755.5342826858748,\n",
       " 72.61140894533915,\n",
       " 72.61140894533915)"
      ]
     },
     "execution_count": 5,
     "metadata": {},
     "output_type": "execute_result"
    }
   ],
   "source": [
    "glicko.glicko_rating(1500, 1780, 60,60, 1.0)"
   ]
  },
  {
   "cell_type": "code",
   "execution_count": 4,
   "metadata": {
    "ExecuteTime": {
     "end_time": "2019-12-11T00:50:31.984919Z",
     "start_time": "2019-12-11T00:50:31.978593Z"
    }
   },
   "outputs": [],
   "source": [
    "import math"
   ]
  },
  {
   "cell_type": "code",
   "execution_count": 6,
   "metadata": {
    "ExecuteTime": {
     "end_time": "2019-12-11T00:50:35.492889Z",
     "start_time": "2019-12-11T00:50:35.481526Z"
    }
   },
   "outputs": [
    {
     "data": {
      "text/plain": [
       "0.005756462732485115"
      ]
     },
     "execution_count": 6,
     "metadata": {},
     "output_type": "execute_result"
    }
   ],
   "source": [
    "math.log(10)/400"
   ]
  },
  {
   "cell_type": "code",
   "execution_count": 9,
   "metadata": {
    "ExecuteTime": {
     "end_time": "2019-12-11T00:51:58.772318Z",
     "start_time": "2019-12-11T00:51:58.765649Z"
    }
   },
   "outputs": [],
   "source": [
    "import numpy as np"
   ]
  },
  {
   "cell_type": "code",
   "execution_count": 11,
   "metadata": {
    "ExecuteTime": {
     "end_time": "2019-12-11T00:52:03.076750Z",
     "start_time": "2019-12-11T00:52:03.063828Z"
    }
   },
   "outputs": [
    {
     "data": {
      "text/plain": [
       "9.869604401089358"
      ]
     },
     "execution_count": 11,
     "metadata": {},
     "output_type": "execute_result"
    }
   ],
   "source": [
    "np.power(np.pi, 2)"
   ]
  },
  {
   "cell_type": "code",
   "execution_count": null,
   "metadata": {},
   "outputs": [],
   "source": []
  }
 ],
 "metadata": {
  "@webio": {
   "lastCommId": null,
   "lastKernelId": null
  },
  "kernelspec": {
   "display_name": "Python 3",
   "language": "python",
   "name": "python3"
  },
  "language_info": {
   "codemirror_mode": {
    "name": "ipython",
    "version": 3
   },
   "file_extension": ".py",
   "mimetype": "text/x-python",
   "name": "python",
   "nbconvert_exporter": "python",
   "pygments_lexer": "ipython3",
   "version": "3.7.0"
  },
  "toc": {
   "base_numbering": 1,
   "nav_menu": {},
   "number_sections": false,
   "sideBar": true,
   "skip_h1_title": false,
   "title_cell": "Table of Contents",
   "title_sidebar": "Contents",
   "toc_cell": false,
   "toc_position": {},
   "toc_section_display": true,
   "toc_window_display": false
  }
 },
 "nbformat": 4,
 "nbformat_minor": 2
}
