{
 "cells": [
  {
   "cell_type": "markdown",
   "metadata": {},
   "source": [
    "# Code Idealization - Lucas\n",
    "\n",
    "File to structure elo functions to be able to run it in production, as well as to optimally train it for sports and different scenarios. Based on the code by [cathyhax](https://github.com/cathyhax).\n",
    "\n",
    "Idealization:\n",
    "\n",
    "## Idealization\n",
    "\n",
    "### Functions\n",
    "\n",
    "```python\n",
    "# calculate probabilities for two teams facing each other.\n",
    "probability(hometeam_elo, visitorteam_elo)\n",
    "```"
   ]
  },
  {
   "cell_type": "code",
   "execution_count": 3,
   "metadata": {
    "ExecuteTime": {
     "end_time": "2019-12-08T02:43:25.835626Z",
     "start_time": "2019-12-08T02:43:25.040899Z"
    }
   },
   "outputs": [],
   "source": [
    "from ratings.elo import Elo"
   ]
  },
  {
   "cell_type": "code",
   "execution_count": 4,
   "metadata": {
    "ExecuteTime": {
     "end_time": "2019-12-08T02:43:25.840065Z",
     "start_time": "2019-12-08T02:43:25.836876Z"
    }
   },
   "outputs": [
    {
     "data": {
      "text/plain": [
       "(0.726830072276731, 0.273169927723269, 1402.9386683454975, 1297.0613316545025)"
      ]
     },
     "execution_count": 4,
     "metadata": {},
     "output_type": "execute_result"
    }
   ],
   "source": [
    "elo = Elo(h=70)\n",
    "\n",
    "elo.elo_rating(1400,1300, d=1.0, score_diff=0)"
   ]
  },
  {
   "cell_type": "code",
   "execution_count": 7,
   "metadata": {
    "ExecuteTime": {
     "end_time": "2019-12-08T02:43:51.267275Z",
     "start_time": "2019-12-08T02:43:51.256813Z"
    }
   },
   "outputs": [
    {
     "data": {
      "text/plain": [
       "(0.726830072276731, 0.273169927723269, 1402.9386683454975, 1297.0613316545025)"
      ]
     },
     "execution_count": 7,
     "metadata": {},
     "output_type": "execute_result"
    }
   ],
   "source": [
    "elo.elo_rating(1400,1300, score_diff=0, d=1.)"
   ]
  },
  {
   "cell_type": "code",
   "execution_count": null,
   "metadata": {},
   "outputs": [],
   "source": [
    "# elo.elo_rating(1400,1300, d=1.0, K=20, h=70, score_diff=0, Sd_method='Logistic', m=1)\n",
    "# (0.726830072276731, 0.273169927723269, 1402.9386683454975, 1297.0613316545025)"
   ]
  },
  {
   "cell_type": "code",
   "execution_count": null,
   "metadata": {},
   "outputs": [],
   "source": []
  },
  {
   "cell_type": "code",
   "execution_count": null,
   "metadata": {},
   "outputs": [],
   "source": []
  },
  {
   "cell_type": "code",
   "execution_count": null,
   "metadata": {},
   "outputs": [],
   "source": []
  },
  {
   "cell_type": "code",
   "execution_count": null,
   "metadata": {},
   "outputs": [],
   "source": []
  }
 ],
 "metadata": {
  "@webio": {
   "lastCommId": null,
   "lastKernelId": null
  },
  "kernelspec": {
   "display_name": "Python 3",
   "language": "python",
   "name": "python3"
  },
  "language_info": {
   "codemirror_mode": {
    "name": "ipython",
    "version": 3
   },
   "file_extension": ".py",
   "mimetype": "text/x-python",
   "name": "python",
   "nbconvert_exporter": "python",
   "pygments_lexer": "ipython3",
   "version": "3.7.0"
  },
  "toc": {
   "base_numbering": 1,
   "nav_menu": {},
   "number_sections": false,
   "sideBar": true,
   "skip_h1_title": false,
   "title_cell": "Table of Contents",
   "title_sidebar": "Contents",
   "toc_cell": false,
   "toc_position": {},
   "toc_section_display": true,
   "toc_window_display": false
  }
 },
 "nbformat": 4,
 "nbformat_minor": 2
}
